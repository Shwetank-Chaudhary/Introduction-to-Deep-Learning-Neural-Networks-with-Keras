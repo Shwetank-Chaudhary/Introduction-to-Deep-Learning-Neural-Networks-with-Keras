{
  "nbformat": 4,
  "nbformat_minor": 0,
  "metadata": {
    "colab": {
      "provenance": [],
      "authorship_tag": "ABX9TyNvR5B/gTvGRTMGpB4M07mD",
      "include_colab_link": true
    },
    "kernelspec": {
      "name": "python3",
      "display_name": "Python 3"
    },
    "language_info": {
      "name": "python"
    }
  },
  "cells": [
    {
      "cell_type": "markdown",
      "metadata": {
        "id": "view-in-github",
        "colab_type": "text"
      },
      "source": [
        "<a href=\"https://colab.research.google.com/github/Shwetank-Chaudhary/Introduction-to-Deep-Learning-Neural-Networks-with-Keras/blob/main/Part_A.ipynb\" target=\"_parent\"><img src=\"https://colab.research.google.com/assets/colab-badge.svg\" alt=\"Open In Colab\"/></a>"
      ]
    },
    {
      "cell_type": "markdown",
      "source": [
        "Loading Data"
      ],
      "metadata": {
        "id": "kniU4p258EkT"
      }
    },
    {
      "cell_type": "code",
      "execution_count": 15,
      "metadata": {
        "id": "T3FnnRYm8UsC"
      },
      "outputs": [],
      "source": [
        "import pandas as pd\n",
        "import numpy as np"
      ]
    },
    {
      "cell_type": "code",
      "source": [
        "file=pd.read_csv(\"https://raw.githubusercontent.com/Shwetank-Chaudhary/Introduction-to-Deep-Learning-Neural-Networks-with-Keras/main/concrete_data.csv\")\n",
        "file.head()"
      ],
      "metadata": {
        "colab": {
          "base_uri": "https://localhost:8080/",
          "height": 206
        },
        "id": "aqviXtn50jub",
        "outputId": "4faaef75-7757-4ad0-85c7-87bc81f718e2"
      },
      "execution_count": 82,
      "outputs": [
        {
          "output_type": "execute_result",
          "data": {
            "text/plain": [
              "   Cement  Blast Furnace Slag  Fly Ash  Water  Superplasticizer  \\\n",
              "0   540.0                 0.0      0.0  162.0               2.5   \n",
              "1   540.0                 0.0      0.0  162.0               2.5   \n",
              "2   332.5               142.5      0.0  228.0               0.0   \n",
              "3   332.5               142.5      0.0  228.0               0.0   \n",
              "4   198.6               132.4      0.0  192.0               0.0   \n",
              "\n",
              "   Coarse Aggregate  Fine Aggregate  Age  Strength  \n",
              "0            1040.0           676.0   28     79.99  \n",
              "1            1055.0           676.0   28     61.89  \n",
              "2             932.0           594.0  270     40.27  \n",
              "3             932.0           594.0  365     41.05  \n",
              "4             978.4           825.5  360     44.30  "
            ],
            "text/html": [
              "\n",
              "  <div id=\"df-e1016d2a-103e-4a18-8419-4f7ff987558a\">\n",
              "    <div class=\"colab-df-container\">\n",
              "      <div>\n",
              "<style scoped>\n",
              "    .dataframe tbody tr th:only-of-type {\n",
              "        vertical-align: middle;\n",
              "    }\n",
              "\n",
              "    .dataframe tbody tr th {\n",
              "        vertical-align: top;\n",
              "    }\n",
              "\n",
              "    .dataframe thead th {\n",
              "        text-align: right;\n",
              "    }\n",
              "</style>\n",
              "<table border=\"1\" class=\"dataframe\">\n",
              "  <thead>\n",
              "    <tr style=\"text-align: right;\">\n",
              "      <th></th>\n",
              "      <th>Cement</th>\n",
              "      <th>Blast Furnace Slag</th>\n",
              "      <th>Fly Ash</th>\n",
              "      <th>Water</th>\n",
              "      <th>Superplasticizer</th>\n",
              "      <th>Coarse Aggregate</th>\n",
              "      <th>Fine Aggregate</th>\n",
              "      <th>Age</th>\n",
              "      <th>Strength</th>\n",
              "    </tr>\n",
              "  </thead>\n",
              "  <tbody>\n",
              "    <tr>\n",
              "      <th>0</th>\n",
              "      <td>540.0</td>\n",
              "      <td>0.0</td>\n",
              "      <td>0.0</td>\n",
              "      <td>162.0</td>\n",
              "      <td>2.5</td>\n",
              "      <td>1040.0</td>\n",
              "      <td>676.0</td>\n",
              "      <td>28</td>\n",
              "      <td>79.99</td>\n",
              "    </tr>\n",
              "    <tr>\n",
              "      <th>1</th>\n",
              "      <td>540.0</td>\n",
              "      <td>0.0</td>\n",
              "      <td>0.0</td>\n",
              "      <td>162.0</td>\n",
              "      <td>2.5</td>\n",
              "      <td>1055.0</td>\n",
              "      <td>676.0</td>\n",
              "      <td>28</td>\n",
              "      <td>61.89</td>\n",
              "    </tr>\n",
              "    <tr>\n",
              "      <th>2</th>\n",
              "      <td>332.5</td>\n",
              "      <td>142.5</td>\n",
              "      <td>0.0</td>\n",
              "      <td>228.0</td>\n",
              "      <td>0.0</td>\n",
              "      <td>932.0</td>\n",
              "      <td>594.0</td>\n",
              "      <td>270</td>\n",
              "      <td>40.27</td>\n",
              "    </tr>\n",
              "    <tr>\n",
              "      <th>3</th>\n",
              "      <td>332.5</td>\n",
              "      <td>142.5</td>\n",
              "      <td>0.0</td>\n",
              "      <td>228.0</td>\n",
              "      <td>0.0</td>\n",
              "      <td>932.0</td>\n",
              "      <td>594.0</td>\n",
              "      <td>365</td>\n",
              "      <td>41.05</td>\n",
              "    </tr>\n",
              "    <tr>\n",
              "      <th>4</th>\n",
              "      <td>198.6</td>\n",
              "      <td>132.4</td>\n",
              "      <td>0.0</td>\n",
              "      <td>192.0</td>\n",
              "      <td>0.0</td>\n",
              "      <td>978.4</td>\n",
              "      <td>825.5</td>\n",
              "      <td>360</td>\n",
              "      <td>44.30</td>\n",
              "    </tr>\n",
              "  </tbody>\n",
              "</table>\n",
              "</div>\n",
              "      <button class=\"colab-df-convert\" onclick=\"convertToInteractive('df-e1016d2a-103e-4a18-8419-4f7ff987558a')\"\n",
              "              title=\"Convert this dataframe to an interactive table.\"\n",
              "              style=\"display:none;\">\n",
              "        \n",
              "  <svg xmlns=\"http://www.w3.org/2000/svg\" height=\"24px\"viewBox=\"0 0 24 24\"\n",
              "       width=\"24px\">\n",
              "    <path d=\"M0 0h24v24H0V0z\" fill=\"none\"/>\n",
              "    <path d=\"M18.56 5.44l.94 2.06.94-2.06 2.06-.94-2.06-.94-.94-2.06-.94 2.06-2.06.94zm-11 1L8.5 8.5l.94-2.06 2.06-.94-2.06-.94L8.5 2.5l-.94 2.06-2.06.94zm10 10l.94 2.06.94-2.06 2.06-.94-2.06-.94-.94-2.06-.94 2.06-2.06.94z\"/><path d=\"M17.41 7.96l-1.37-1.37c-.4-.4-.92-.59-1.43-.59-.52 0-1.04.2-1.43.59L10.3 9.45l-7.72 7.72c-.78.78-.78 2.05 0 2.83L4 21.41c.39.39.9.59 1.41.59.51 0 1.02-.2 1.41-.59l7.78-7.78 2.81-2.81c.8-.78.8-2.07 0-2.86zM5.41 20L4 18.59l7.72-7.72 1.47 1.35L5.41 20z\"/>\n",
              "  </svg>\n",
              "      </button>\n",
              "      \n",
              "  <style>\n",
              "    .colab-df-container {\n",
              "      display:flex;\n",
              "      flex-wrap:wrap;\n",
              "      gap: 12px;\n",
              "    }\n",
              "\n",
              "    .colab-df-convert {\n",
              "      background-color: #E8F0FE;\n",
              "      border: none;\n",
              "      border-radius: 50%;\n",
              "      cursor: pointer;\n",
              "      display: none;\n",
              "      fill: #1967D2;\n",
              "      height: 32px;\n",
              "      padding: 0 0 0 0;\n",
              "      width: 32px;\n",
              "    }\n",
              "\n",
              "    .colab-df-convert:hover {\n",
              "      background-color: #E2EBFA;\n",
              "      box-shadow: 0px 1px 2px rgba(60, 64, 67, 0.3), 0px 1px 3px 1px rgba(60, 64, 67, 0.15);\n",
              "      fill: #174EA6;\n",
              "    }\n",
              "\n",
              "    [theme=dark] .colab-df-convert {\n",
              "      background-color: #3B4455;\n",
              "      fill: #D2E3FC;\n",
              "    }\n",
              "\n",
              "    [theme=dark] .colab-df-convert:hover {\n",
              "      background-color: #434B5C;\n",
              "      box-shadow: 0px 1px 3px 1px rgba(0, 0, 0, 0.15);\n",
              "      filter: drop-shadow(0px 1px 2px rgba(0, 0, 0, 0.3));\n",
              "      fill: #FFFFFF;\n",
              "    }\n",
              "  </style>\n",
              "\n",
              "      <script>\n",
              "        const buttonEl =\n",
              "          document.querySelector('#df-e1016d2a-103e-4a18-8419-4f7ff987558a button.colab-df-convert');\n",
              "        buttonEl.style.display =\n",
              "          google.colab.kernel.accessAllowed ? 'block' : 'none';\n",
              "\n",
              "        async function convertToInteractive(key) {\n",
              "          const element = document.querySelector('#df-e1016d2a-103e-4a18-8419-4f7ff987558a');\n",
              "          const dataTable =\n",
              "            await google.colab.kernel.invokeFunction('convertToInteractive',\n",
              "                                                     [key], {});\n",
              "          if (!dataTable) return;\n",
              "\n",
              "          const docLinkHtml = 'Like what you see? Visit the ' +\n",
              "            '<a target=\"_blank\" href=https://colab.research.google.com/notebooks/data_table.ipynb>data table notebook</a>'\n",
              "            + ' to learn more about interactive tables.';\n",
              "          element.innerHTML = '';\n",
              "          dataTable['output_type'] = 'display_data';\n",
              "          await google.colab.output.renderOutput(dataTable, element);\n",
              "          const docLink = document.createElement('div');\n",
              "          docLink.innerHTML = docLinkHtml;\n",
              "          element.appendChild(docLink);\n",
              "        }\n",
              "      </script>\n",
              "    </div>\n",
              "  </div>\n",
              "  "
            ]
          },
          "metadata": {},
          "execution_count": 82
        }
      ]
    },
    {
      "cell_type": "code",
      "source": [
        "file.isnull().sum()"
      ],
      "metadata": {
        "colab": {
          "base_uri": "https://localhost:8080/"
        },
        "id": "e3up_lkp6FBS",
        "outputId": "97b9b4bf-eef8-47f5-d702-bb15089e8d48"
      },
      "execution_count": 53,
      "outputs": [
        {
          "output_type": "execute_result",
          "data": {
            "text/plain": [
              "Cement                0\n",
              "Blast Furnace Slag    0\n",
              "Fly Ash               0\n",
              "Water                 0\n",
              "Superplasticizer      0\n",
              "Coarse Aggregate      0\n",
              "Fine Aggregate        0\n",
              "Age                   0\n",
              "Strength              0\n",
              "dtype: int64"
            ]
          },
          "metadata": {},
          "execution_count": 53
        }
      ]
    },
    {
      "cell_type": "markdown",
      "source": [
        "**Randomly split the data into a training and test sets by holding 30% of the data for testing. You can use the train_test_splithelper function from Scikit-learn.**"
      ],
      "metadata": {
        "id": "RtNxxsCf05Dr"
      }
    },
    {
      "cell_type": "code",
      "source": [
        "import tensorflow as tf\n",
        "from keras.models import Sequential\n",
        "from keras.layers import Dense,Activation\n",
        "from sklearn.model_selection import train_test_split\n",
        "from sklearn.metrics import mean_squared_error as mse"
      ],
      "metadata": {
        "id": "T3ewZELt08I6"
      },
      "execution_count": 54,
      "outputs": []
    },
    {
      "cell_type": "code",
      "source": [
        "features = list(file.columns)\n",
        "x = file[features[:-1]].values      # Predictors\n",
        "y = file[\"Strength\"].values         #Target "
      ],
      "metadata": {
        "id": "8ZF1eljV26pU"
      },
      "execution_count": 55,
      "outputs": []
    },
    {
      "cell_type": "code",
      "source": [
        "print(x.shape,y.shape,sep='\\n')"
      ],
      "metadata": {
        "colab": {
          "base_uri": "https://localhost:8080/"
        },
        "id": "UPBq4dt73iQL",
        "outputId": "601ee93d-f3d7-46af-9fea-fa545f73e432"
      },
      "execution_count": 56,
      "outputs": [
        {
          "output_type": "stream",
          "name": "stdout",
          "text": [
            "(1030, 8)\n",
            "(1030,)\n"
          ]
        }
      ]
    },
    {
      "cell_type": "code",
      "source": [
        "x_train,x_test,y_train,y_test=train_test_split(x,y,train_size=0.7,random_state=0)"
      ],
      "metadata": {
        "id": "7cfxaeut2vzq"
      },
      "execution_count": 64,
      "outputs": []
    },
    {
      "cell_type": "code",
      "source": [
        "print(x_train.shape,y_train.shape,sep='\\n')"
      ],
      "metadata": {
        "colab": {
          "base_uri": "https://localhost:8080/"
        },
        "id": "_pGBcM305uKz",
        "outputId": "68087542-ad01-437e-b8ce-7dd1644f6341"
      },
      "execution_count": 65,
      "outputs": [
        {
          "output_type": "stream",
          "name": "stdout",
          "text": [
            "(721, 8)\n",
            "(721,)\n"
          ]
        }
      ]
    },
    {
      "cell_type": "markdown",
      "source": [
        "** Train the model on the training data using 50 epochs.**"
      ],
      "metadata": {
        "id": "YlsE5LZO8XaB"
      }
    },
    {
      "cell_type": "code",
      "source": [
        "model = Sequential()\n",
        "model.add(Dense(10,activation='relu',input_shape = (x.shape[1],)))\n",
        "model.add(Dense(1))"
      ],
      "metadata": {
        "id": "if70yCFZ1TiT"
      },
      "execution_count": 67,
      "outputs": []
    },
    {
      "cell_type": "code",
      "source": [
        "model.compile(optimizer='adam', loss = 'mean_squared_error')"
      ],
      "metadata": {
        "id": "gmZZ1kcN4Pzb"
      },
      "execution_count": 68,
      "outputs": []
    },
    {
      "cell_type": "code",
      "source": [
        "model.fit(x_train,y_train,epochs=50,verbose = 1)"
      ],
      "metadata": {
        "colab": {
          "base_uri": "https://localhost:8080/"
        },
        "id": "_w6lpyPS5I8r",
        "outputId": "de66cc64-c048-4e09-e095-32bff143e83d"
      },
      "execution_count": 74,
      "outputs": [
        {
          "output_type": "stream",
          "name": "stdout",
          "text": [
            "Epoch 1/50\n",
            "23/23 [==============================] - 0s 1ms/step - loss: 113.5309\n",
            "Epoch 2/50\n",
            "23/23 [==============================] - 0s 2ms/step - loss: 113.5531\n",
            "Epoch 3/50\n",
            "23/23 [==============================] - 0s 1ms/step - loss: 113.1238\n",
            "Epoch 4/50\n",
            "23/23 [==============================] - 0s 1ms/step - loss: 113.0206\n",
            "Epoch 5/50\n",
            "23/23 [==============================] - 0s 1ms/step - loss: 112.3927\n",
            "Epoch 6/50\n",
            "23/23 [==============================] - 0s 2ms/step - loss: 113.4053\n",
            "Epoch 7/50\n",
            "23/23 [==============================] - 0s 2ms/step - loss: 113.2328\n",
            "Epoch 8/50\n",
            "23/23 [==============================] - 0s 1ms/step - loss: 113.3813\n",
            "Epoch 9/50\n",
            "23/23 [==============================] - 0s 1ms/step - loss: 114.0790\n",
            "Epoch 10/50\n",
            "23/23 [==============================] - 0s 1ms/step - loss: 114.0471\n",
            "Epoch 11/50\n",
            "23/23 [==============================] - 0s 1ms/step - loss: 114.5119\n",
            "Epoch 12/50\n",
            "23/23 [==============================] - 0s 1ms/step - loss: 112.4732\n",
            "Epoch 13/50\n",
            "23/23 [==============================] - 0s 1ms/step - loss: 116.2388\n",
            "Epoch 14/50\n",
            "23/23 [==============================] - 0s 1ms/step - loss: 113.0569\n",
            "Epoch 15/50\n",
            "23/23 [==============================] - 0s 1ms/step - loss: 112.1983\n",
            "Epoch 16/50\n",
            "23/23 [==============================] - 0s 1ms/step - loss: 113.2637\n",
            "Epoch 17/50\n",
            "23/23 [==============================] - 0s 1ms/step - loss: 114.9778\n",
            "Epoch 18/50\n",
            "23/23 [==============================] - 0s 1ms/step - loss: 112.9010\n",
            "Epoch 19/50\n",
            "23/23 [==============================] - 0s 1ms/step - loss: 113.7068\n",
            "Epoch 20/50\n",
            "23/23 [==============================] - 0s 1ms/step - loss: 113.8441\n",
            "Epoch 21/50\n",
            "23/23 [==============================] - 0s 2ms/step - loss: 113.1565\n",
            "Epoch 22/50\n",
            "23/23 [==============================] - 0s 2ms/step - loss: 113.4202\n",
            "Epoch 23/50\n",
            "23/23 [==============================] - 0s 1ms/step - loss: 115.7117\n",
            "Epoch 24/50\n",
            "23/23 [==============================] - 0s 1ms/step - loss: 112.7942\n",
            "Epoch 25/50\n",
            "23/23 [==============================] - 0s 1ms/step - loss: 114.7772\n",
            "Epoch 26/50\n",
            "23/23 [==============================] - 0s 1ms/step - loss: 114.0835\n",
            "Epoch 27/50\n",
            "23/23 [==============================] - 0s 1ms/step - loss: 113.4603\n",
            "Epoch 28/50\n",
            "23/23 [==============================] - 0s 1ms/step - loss: 114.5925\n",
            "Epoch 29/50\n",
            "23/23 [==============================] - 0s 1ms/step - loss: 112.7414\n",
            "Epoch 30/50\n",
            "23/23 [==============================] - 0s 1ms/step - loss: 114.5876\n",
            "Epoch 31/50\n",
            "23/23 [==============================] - 0s 1ms/step - loss: 112.3519\n",
            "Epoch 32/50\n",
            "23/23 [==============================] - 0s 1ms/step - loss: 112.3238\n",
            "Epoch 33/50\n",
            "23/23 [==============================] - 0s 1ms/step - loss: 113.1585\n",
            "Epoch 34/50\n",
            "23/23 [==============================] - 0s 1ms/step - loss: 117.4520\n",
            "Epoch 35/50\n",
            "23/23 [==============================] - 0s 1ms/step - loss: 113.2137\n",
            "Epoch 36/50\n",
            "23/23 [==============================] - 0s 1ms/step - loss: 113.2035\n",
            "Epoch 37/50\n",
            "23/23 [==============================] - 0s 1ms/step - loss: 116.4473\n",
            "Epoch 38/50\n",
            "23/23 [==============================] - 0s 1ms/step - loss: 113.0399\n",
            "Epoch 39/50\n",
            "23/23 [==============================] - 0s 1ms/step - loss: 116.3348\n",
            "Epoch 40/50\n",
            "23/23 [==============================] - 0s 1ms/step - loss: 113.1893\n",
            "Epoch 41/50\n",
            "23/23 [==============================] - 0s 1ms/step - loss: 113.0598\n",
            "Epoch 42/50\n",
            "23/23 [==============================] - 0s 2ms/step - loss: 113.8444\n",
            "Epoch 43/50\n",
            "23/23 [==============================] - 0s 1ms/step - loss: 113.7105\n",
            "Epoch 44/50\n",
            "23/23 [==============================] - 0s 1ms/step - loss: 116.6400\n",
            "Epoch 45/50\n",
            "23/23 [==============================] - 0s 1ms/step - loss: 112.7242\n",
            "Epoch 46/50\n",
            "23/23 [==============================] - 0s 1ms/step - loss: 113.6226\n",
            "Epoch 47/50\n",
            "23/23 [==============================] - 0s 1ms/step - loss: 113.1667\n",
            "Epoch 48/50\n",
            "23/23 [==============================] - 0s 1ms/step - loss: 112.5852\n",
            "Epoch 49/50\n",
            "23/23 [==============================] - 0s 1ms/step - loss: 112.7383\n",
            "Epoch 50/50\n",
            "23/23 [==============================] - 0s 2ms/step - loss: 111.7674\n"
          ]
        },
        {
          "output_type": "execute_result",
          "data": {
            "text/plain": [
              "<keras.callbacks.History at 0x7fd8cc4386d0>"
            ]
          },
          "metadata": {},
          "execution_count": 74
        }
      ]
    },
    {
      "cell_type": "markdown",
      "source": [
        "**Evaluate the model on the test data and compute the mean squared error between the predicted concrete strength and the actual concrete strength. You can use the mean_squared_error function from Scikit-learn.**"
      ],
      "metadata": {
        "id": "pv1GDjNU8g1E"
      }
    },
    {
      "cell_type": "code",
      "source": [
        "loss_val  = model.evaluate(x_test,y_test)\n",
        "y_pred = model.predict(x_test)\n",
        "loss_val"
      ],
      "metadata": {
        "colab": {
          "base_uri": "https://localhost:8080/"
        },
        "id": "beFZeqv76wDC",
        "outputId": "df1a9e70-f758-4704-a6be-58da824d4f69"
      },
      "execution_count": 75,
      "outputs": [
        {
          "output_type": "stream",
          "name": "stdout",
          "text": [
            "10/10 [==============================] - 0s 2ms/step - loss: 94.2750\n",
            "10/10 [==============================] - 0s 2ms/step\n"
          ]
        },
        {
          "output_type": "execute_result",
          "data": {
            "text/plain": [
              "94.2750473022461"
            ]
          },
          "metadata": {},
          "execution_count": 75
        }
      ]
    },
    {
      "cell_type": "code",
      "source": [
        "m2e = mse(y_test,y_pred)\n",
        "mean = np.mean(m2e)\n",
        "std = np.std(m2e)\n",
        "print(\"Mean: \",mean,\"\\nStd: \",std)"
      ],
      "metadata": {
        "colab": {
          "base_uri": "https://localhost:8080/"
        },
        "id": "retLjofk7Fy_",
        "outputId": "2952a5b1-d54c-473a-81d1-c83cbc095032"
      },
      "execution_count": 76,
      "outputs": [
        {
          "output_type": "stream",
          "name": "stdout",
          "text": [
            "Mean:  94.27505461063255 \n",
            "Std:  0.0\n"
          ]
        }
      ]
    },
    {
      "cell_type": "markdown",
      "source": [
        "**create a list of 50 mean squared errors.**"
      ],
      "metadata": {
        "id": "brEps86f8n3D"
      }
    },
    {
      "cell_type": "code",
      "source": [
        "list_of_errors = []\n",
        "for i in range(50):\n",
        "  x_train,x_test,y_train,y_test = train_test_split(x,y,test_size = 0.3, random_state = i)\n",
        "  model.fit(x_train,y_train,verbose = 0)\n",
        "  loss_val = model.evaluate(x_test,y_test,verbose = 0)\n",
        "  print(f\"MSE {i+1}:\",loss_val)\n",
        "  list_of_errors.append(loss_val)"
      ],
      "metadata": {
        "colab": {
          "base_uri": "https://localhost:8080/"
        },
        "id": "2xH6-xE68rX2",
        "outputId": "196b99fd-55cb-4760-ca22-bbd13b6d1568"
      },
      "execution_count": 77,
      "outputs": [
        {
          "output_type": "stream",
          "name": "stdout",
          "text": [
            "MSE 1: 90.83414459228516\n",
            "MSE 2: 116.74143981933594\n",
            "MSE 3: 107.1844253540039\n",
            "MSE 4: 120.10358428955078\n",
            "MSE 5: 115.83818817138672\n",
            "MSE 6: 105.46757507324219\n",
            "MSE 7: 126.12580871582031\n",
            "MSE 8: 94.35012817382812\n",
            "MSE 9: 112.14530181884766\n",
            "MSE 10: 116.82083129882812\n",
            "MSE 11: 99.52092742919922\n",
            "MSE 12: 100.12335205078125\n",
            "MSE 13: 111.07408142089844\n",
            "MSE 14: 112.71615600585938\n",
            "MSE 15: 105.23887634277344\n",
            "MSE 16: 104.63833618164062\n",
            "MSE 17: 103.09056854248047\n",
            "MSE 18: 94.10809326171875\n",
            "MSE 19: 99.70697784423828\n",
            "MSE 20: 111.1123046875\n",
            "MSE 21: 108.35275268554688\n",
            "MSE 22: 98.07486724853516\n",
            "MSE 23: 109.26036834716797\n",
            "MSE 24: 103.25944519042969\n",
            "MSE 25: 104.18965911865234\n",
            "MSE 26: 96.76248168945312\n",
            "MSE 27: 119.69912719726562\n",
            "MSE 28: 104.41468048095703\n",
            "MSE 29: 109.88383483886719\n",
            "MSE 30: 115.12354278564453\n",
            "MSE 31: 124.95170593261719\n",
            "MSE 32: 113.07096099853516\n",
            "MSE 33: 106.30426025390625\n",
            "MSE 34: 105.88377380371094\n",
            "MSE 35: 107.79328155517578\n",
            "MSE 36: 122.47683715820312\n",
            "MSE 37: 118.77861785888672\n",
            "MSE 38: 113.01400756835938\n",
            "MSE 39: 108.81372833251953\n",
            "MSE 40: 108.42031860351562\n",
            "MSE 41: 111.3245620727539\n",
            "MSE 42: 112.43403625488281\n",
            "MSE 43: 104.3745346069336\n",
            "MSE 44: 102.58831787109375\n",
            "MSE 45: 114.79791259765625\n",
            "MSE 46: 106.54443359375\n",
            "MSE 47: 109.12813568115234\n",
            "MSE 48: 108.36197662353516\n",
            "MSE 49: 98.88439178466797\n",
            "MSE 50: 105.57987976074219\n"
          ]
        }
      ]
    },
    {
      "cell_type": "markdown",
      "source": [
        " Report the mean and the standard deviation of the mean squared errors."
      ],
      "metadata": {
        "id": "_COdo6F1A9MW"
      }
    },
    {
      "cell_type": "code",
      "source": [
        "mean = np.mean(list_of_errors)\n",
        "std = np.std(list_of_errors)\n",
        "\n",
        "print(f\"Mean is {mean}\\nStandard Deviation is {std}\")"
      ],
      "metadata": {
        "colab": {
          "base_uri": "https://localhost:8080/"
        },
        "id": "Ec68yGxP_TxV",
        "outputId": "8131398d-5d73-4aec-ff38-369adf38322f"
      },
      "execution_count": 78,
      "outputs": [
        {
          "output_type": "stream",
          "name": "stdout",
          "text": [
            "Mean is 108.38975067138672\n",
            "Standard Deviation is 7.771745808560899\n"
          ]
        }
      ]
    }
  ]
}