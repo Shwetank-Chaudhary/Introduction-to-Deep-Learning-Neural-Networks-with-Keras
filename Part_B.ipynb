{
  "nbformat": 4,
  "nbformat_minor": 0,
  "metadata": {
    "colab": {
      "provenance": [],
      "authorship_tag": "ABX9TyMvGT2hiOr4TEHJYgLzy7Lu",
      "include_colab_link": true
    },
    "kernelspec": {
      "name": "python3",
      "display_name": "Python 3"
    },
    "language_info": {
      "name": "python"
    }
  },
  "cells": [
    {
      "cell_type": "markdown",
      "metadata": {
        "id": "view-in-github",
        "colab_type": "text"
      },
      "source": [
        "<a href=\"https://colab.research.google.com/github/Shwetank-Chaudhary/Introduction-to-Deep-Learning-Neural-Networks-with-Keras/blob/main/Part_B.ipynb\" target=\"_parent\"><img src=\"https://colab.research.google.com/assets/colab-badge.svg\" alt=\"Open In Colab\"/></a>"
      ]
    },
    {
      "cell_type": "code",
      "execution_count": 3,
      "metadata": {
        "id": "3IpO3UTNMHrq"
      },
      "outputs": [],
      "source": [
        "import pandas as pd\n",
        "import numpy as np \n",
        "from sklearn.model_selection import train_test_split"
      ]
    },
    {
      "cell_type": "code",
      "source": [
        "file = pd.read_csv(\"https://raw.githubusercontent.com/Shwetank-Chaudhary/Introduction-to-Deep-Learning-Neural-Networks-with-Keras/main/concrete_data.csv\")"
      ],
      "metadata": {
        "id": "3y_ya4PjM9up"
      },
      "execution_count": 39,
      "outputs": []
    },
    {
      "cell_type": "code",
      "source": [
        "file.head()"
      ],
      "metadata": {
        "colab": {
          "base_uri": "https://localhost:8080/",
          "height": 206
        },
        "id": "isXsJaiaM9hF",
        "outputId": "3132786a-f965-41bd-b4c6-f088dbbfea51"
      },
      "execution_count": 7,
      "outputs": [
        {
          "output_type": "execute_result",
          "data": {
            "text/plain": [
              "   Cement  Blast Furnace Slag  Fly Ash  Water  Superplasticizer  \\\n",
              "0   540.0                 0.0      0.0  162.0               2.5   \n",
              "1   540.0                 0.0      0.0  162.0               2.5   \n",
              "2   332.5               142.5      0.0  228.0               0.0   \n",
              "3   332.5               142.5      0.0  228.0               0.0   \n",
              "4   198.6               132.4      0.0  192.0               0.0   \n",
              "\n",
              "   Coarse Aggregate  Fine Aggregate  Age  Strength  \n",
              "0            1040.0           676.0   28     79.99  \n",
              "1            1055.0           676.0   28     61.89  \n",
              "2             932.0           594.0  270     40.27  \n",
              "3             932.0           594.0  365     41.05  \n",
              "4             978.4           825.5  360     44.30  "
            ],
            "text/html": [
              "\n",
              "  <div id=\"df-2ec9d8b5-e396-4b9c-856a-582d2b668143\">\n",
              "    <div class=\"colab-df-container\">\n",
              "      <div>\n",
              "<style scoped>\n",
              "    .dataframe tbody tr th:only-of-type {\n",
              "        vertical-align: middle;\n",
              "    }\n",
              "\n",
              "    .dataframe tbody tr th {\n",
              "        vertical-align: top;\n",
              "    }\n",
              "\n",
              "    .dataframe thead th {\n",
              "        text-align: right;\n",
              "    }\n",
              "</style>\n",
              "<table border=\"1\" class=\"dataframe\">\n",
              "  <thead>\n",
              "    <tr style=\"text-align: right;\">\n",
              "      <th></th>\n",
              "      <th>Cement</th>\n",
              "      <th>Blast Furnace Slag</th>\n",
              "      <th>Fly Ash</th>\n",
              "      <th>Water</th>\n",
              "      <th>Superplasticizer</th>\n",
              "      <th>Coarse Aggregate</th>\n",
              "      <th>Fine Aggregate</th>\n",
              "      <th>Age</th>\n",
              "      <th>Strength</th>\n",
              "    </tr>\n",
              "  </thead>\n",
              "  <tbody>\n",
              "    <tr>\n",
              "      <th>0</th>\n",
              "      <td>540.0</td>\n",
              "      <td>0.0</td>\n",
              "      <td>0.0</td>\n",
              "      <td>162.0</td>\n",
              "      <td>2.5</td>\n",
              "      <td>1040.0</td>\n",
              "      <td>676.0</td>\n",
              "      <td>28</td>\n",
              "      <td>79.99</td>\n",
              "    </tr>\n",
              "    <tr>\n",
              "      <th>1</th>\n",
              "      <td>540.0</td>\n",
              "      <td>0.0</td>\n",
              "      <td>0.0</td>\n",
              "      <td>162.0</td>\n",
              "      <td>2.5</td>\n",
              "      <td>1055.0</td>\n",
              "      <td>676.0</td>\n",
              "      <td>28</td>\n",
              "      <td>61.89</td>\n",
              "    </tr>\n",
              "    <tr>\n",
              "      <th>2</th>\n",
              "      <td>332.5</td>\n",
              "      <td>142.5</td>\n",
              "      <td>0.0</td>\n",
              "      <td>228.0</td>\n",
              "      <td>0.0</td>\n",
              "      <td>932.0</td>\n",
              "      <td>594.0</td>\n",
              "      <td>270</td>\n",
              "      <td>40.27</td>\n",
              "    </tr>\n",
              "    <tr>\n",
              "      <th>3</th>\n",
              "      <td>332.5</td>\n",
              "      <td>142.5</td>\n",
              "      <td>0.0</td>\n",
              "      <td>228.0</td>\n",
              "      <td>0.0</td>\n",
              "      <td>932.0</td>\n",
              "      <td>594.0</td>\n",
              "      <td>365</td>\n",
              "      <td>41.05</td>\n",
              "    </tr>\n",
              "    <tr>\n",
              "      <th>4</th>\n",
              "      <td>198.6</td>\n",
              "      <td>132.4</td>\n",
              "      <td>0.0</td>\n",
              "      <td>192.0</td>\n",
              "      <td>0.0</td>\n",
              "      <td>978.4</td>\n",
              "      <td>825.5</td>\n",
              "      <td>360</td>\n",
              "      <td>44.30</td>\n",
              "    </tr>\n",
              "  </tbody>\n",
              "</table>\n",
              "</div>\n",
              "      <button class=\"colab-df-convert\" onclick=\"convertToInteractive('df-2ec9d8b5-e396-4b9c-856a-582d2b668143')\"\n",
              "              title=\"Convert this dataframe to an interactive table.\"\n",
              "              style=\"display:none;\">\n",
              "        \n",
              "  <svg xmlns=\"http://www.w3.org/2000/svg\" height=\"24px\"viewBox=\"0 0 24 24\"\n",
              "       width=\"24px\">\n",
              "    <path d=\"M0 0h24v24H0V0z\" fill=\"none\"/>\n",
              "    <path d=\"M18.56 5.44l.94 2.06.94-2.06 2.06-.94-2.06-.94-.94-2.06-.94 2.06-2.06.94zm-11 1L8.5 8.5l.94-2.06 2.06-.94-2.06-.94L8.5 2.5l-.94 2.06-2.06.94zm10 10l.94 2.06.94-2.06 2.06-.94-2.06-.94-.94-2.06-.94 2.06-2.06.94z\"/><path d=\"M17.41 7.96l-1.37-1.37c-.4-.4-.92-.59-1.43-.59-.52 0-1.04.2-1.43.59L10.3 9.45l-7.72 7.72c-.78.78-.78 2.05 0 2.83L4 21.41c.39.39.9.59 1.41.59.51 0 1.02-.2 1.41-.59l7.78-7.78 2.81-2.81c.8-.78.8-2.07 0-2.86zM5.41 20L4 18.59l7.72-7.72 1.47 1.35L5.41 20z\"/>\n",
              "  </svg>\n",
              "      </button>\n",
              "      \n",
              "  <style>\n",
              "    .colab-df-container {\n",
              "      display:flex;\n",
              "      flex-wrap:wrap;\n",
              "      gap: 12px;\n",
              "    }\n",
              "\n",
              "    .colab-df-convert {\n",
              "      background-color: #E8F0FE;\n",
              "      border: none;\n",
              "      border-radius: 50%;\n",
              "      cursor: pointer;\n",
              "      display: none;\n",
              "      fill: #1967D2;\n",
              "      height: 32px;\n",
              "      padding: 0 0 0 0;\n",
              "      width: 32px;\n",
              "    }\n",
              "\n",
              "    .colab-df-convert:hover {\n",
              "      background-color: #E2EBFA;\n",
              "      box-shadow: 0px 1px 2px rgba(60, 64, 67, 0.3), 0px 1px 3px 1px rgba(60, 64, 67, 0.15);\n",
              "      fill: #174EA6;\n",
              "    }\n",
              "\n",
              "    [theme=dark] .colab-df-convert {\n",
              "      background-color: #3B4455;\n",
              "      fill: #D2E3FC;\n",
              "    }\n",
              "\n",
              "    [theme=dark] .colab-df-convert:hover {\n",
              "      background-color: #434B5C;\n",
              "      box-shadow: 0px 1px 3px 1px rgba(0, 0, 0, 0.15);\n",
              "      filter: drop-shadow(0px 1px 2px rgba(0, 0, 0, 0.3));\n",
              "      fill: #FFFFFF;\n",
              "    }\n",
              "  </style>\n",
              "\n",
              "      <script>\n",
              "        const buttonEl =\n",
              "          document.querySelector('#df-2ec9d8b5-e396-4b9c-856a-582d2b668143 button.colab-df-convert');\n",
              "        buttonEl.style.display =\n",
              "          google.colab.kernel.accessAllowed ? 'block' : 'none';\n",
              "\n",
              "        async function convertToInteractive(key) {\n",
              "          const element = document.querySelector('#df-2ec9d8b5-e396-4b9c-856a-582d2b668143');\n",
              "          const dataTable =\n",
              "            await google.colab.kernel.invokeFunction('convertToInteractive',\n",
              "                                                     [key], {});\n",
              "          if (!dataTable) return;\n",
              "\n",
              "          const docLinkHtml = 'Like what you see? Visit the ' +\n",
              "            '<a target=\"_blank\" href=https://colab.research.google.com/notebooks/data_table.ipynb>data table notebook</a>'\n",
              "            + ' to learn more about interactive tables.';\n",
              "          element.innerHTML = '';\n",
              "          dataTable['output_type'] = 'display_data';\n",
              "          await google.colab.output.renderOutput(dataTable, element);\n",
              "          const docLink = document.createElement('div');\n",
              "          docLink.innerHTML = docLinkHtml;\n",
              "          element.appendChild(docLink);\n",
              "        }\n",
              "      </script>\n",
              "    </div>\n",
              "  </div>\n",
              "  "
            ]
          },
          "metadata": {},
          "execution_count": 7
        }
      ]
    },
    {
      "cell_type": "markdown",
      "source": [
        "Repeat Part A but use a normalized version of the data. "
      ],
      "metadata": {
        "id": "5vUoPQnwNOBH"
      }
    },
    {
      "cell_type": "code",
      "source": [
        "x = file.iloc[:,:-1]      #Predictors\n",
        "y = file['Strength']      #Target"
      ],
      "metadata": {
        "id": "EA51v01kNUia"
      },
      "execution_count": 15,
      "outputs": []
    },
    {
      "cell_type": "code",
      "source": [
        "print(x.shape,y.shape,sep='\\n')"
      ],
      "metadata": {
        "colab": {
          "base_uri": "https://localhost:8080/"
        },
        "id": "tUZNDJW6NvWT",
        "outputId": "b0082750-0263-45c1-c0c4-cc89b1baff5d"
      },
      "execution_count": 17,
      "outputs": [
        {
          "output_type": "stream",
          "name": "stdout",
          "text": [
            "(1030, 8)\n",
            "(1030,)\n"
          ]
        }
      ]
    },
    {
      "cell_type": "markdown",
      "source": [
        "**Normalising the Predictors**"
      ],
      "metadata": {
        "id": "xto3m2qMOPOg"
      }
    },
    {
      "cell_type": "code",
      "source": [
        "x_norm = (x-x.mean())/x.std()"
      ],
      "metadata": {
        "id": "OQM3-Wr4ONNe"
      },
      "execution_count": 18,
      "outputs": []
    },
    {
      "cell_type": "code",
      "source": [
        "x_norm.head()"
      ],
      "metadata": {
        "colab": {
          "base_uri": "https://localhost:8080/",
          "height": 206
        },
        "id": "qW9G6H8-OsiG",
        "outputId": "ee5c8624-b7da-42eb-fbc4-0182cf1e8c65"
      },
      "execution_count": 20,
      "outputs": [
        {
          "output_type": "execute_result",
          "data": {
            "text/plain": [
              "     Cement  Blast Furnace Slag   Fly Ash     Water  Superplasticizer  \\\n",
              "0  2.476712           -0.856472 -0.846733 -0.916319         -0.620147   \n",
              "1  2.476712           -0.856472 -0.846733 -0.916319         -0.620147   \n",
              "2  0.491187            0.795140 -0.846733  2.174405         -1.038638   \n",
              "3  0.491187            0.795140 -0.846733  2.174405         -1.038638   \n",
              "4 -0.790075            0.678079 -0.846733  0.488555         -1.038638   \n",
              "\n",
              "   Coarse Aggregate  Fine Aggregate       Age  \n",
              "0          0.862735       -1.217079 -0.279597  \n",
              "1          1.055651       -1.217079 -0.279597  \n",
              "2         -0.526262       -2.239829  3.551340  \n",
              "3         -0.526262       -2.239829  5.055221  \n",
              "4          0.070492        0.647569  4.976069  "
            ],
            "text/html": [
              "\n",
              "  <div id=\"df-fe17b05d-8e17-46b5-bc13-6675057ed2d0\">\n",
              "    <div class=\"colab-df-container\">\n",
              "      <div>\n",
              "<style scoped>\n",
              "    .dataframe tbody tr th:only-of-type {\n",
              "        vertical-align: middle;\n",
              "    }\n",
              "\n",
              "    .dataframe tbody tr th {\n",
              "        vertical-align: top;\n",
              "    }\n",
              "\n",
              "    .dataframe thead th {\n",
              "        text-align: right;\n",
              "    }\n",
              "</style>\n",
              "<table border=\"1\" class=\"dataframe\">\n",
              "  <thead>\n",
              "    <tr style=\"text-align: right;\">\n",
              "      <th></th>\n",
              "      <th>Cement</th>\n",
              "      <th>Blast Furnace Slag</th>\n",
              "      <th>Fly Ash</th>\n",
              "      <th>Water</th>\n",
              "      <th>Superplasticizer</th>\n",
              "      <th>Coarse Aggregate</th>\n",
              "      <th>Fine Aggregate</th>\n",
              "      <th>Age</th>\n",
              "    </tr>\n",
              "  </thead>\n",
              "  <tbody>\n",
              "    <tr>\n",
              "      <th>0</th>\n",
              "      <td>2.476712</td>\n",
              "      <td>-0.856472</td>\n",
              "      <td>-0.846733</td>\n",
              "      <td>-0.916319</td>\n",
              "      <td>-0.620147</td>\n",
              "      <td>0.862735</td>\n",
              "      <td>-1.217079</td>\n",
              "      <td>-0.279597</td>\n",
              "    </tr>\n",
              "    <tr>\n",
              "      <th>1</th>\n",
              "      <td>2.476712</td>\n",
              "      <td>-0.856472</td>\n",
              "      <td>-0.846733</td>\n",
              "      <td>-0.916319</td>\n",
              "      <td>-0.620147</td>\n",
              "      <td>1.055651</td>\n",
              "      <td>-1.217079</td>\n",
              "      <td>-0.279597</td>\n",
              "    </tr>\n",
              "    <tr>\n",
              "      <th>2</th>\n",
              "      <td>0.491187</td>\n",
              "      <td>0.795140</td>\n",
              "      <td>-0.846733</td>\n",
              "      <td>2.174405</td>\n",
              "      <td>-1.038638</td>\n",
              "      <td>-0.526262</td>\n",
              "      <td>-2.239829</td>\n",
              "      <td>3.551340</td>\n",
              "    </tr>\n",
              "    <tr>\n",
              "      <th>3</th>\n",
              "      <td>0.491187</td>\n",
              "      <td>0.795140</td>\n",
              "      <td>-0.846733</td>\n",
              "      <td>2.174405</td>\n",
              "      <td>-1.038638</td>\n",
              "      <td>-0.526262</td>\n",
              "      <td>-2.239829</td>\n",
              "      <td>5.055221</td>\n",
              "    </tr>\n",
              "    <tr>\n",
              "      <th>4</th>\n",
              "      <td>-0.790075</td>\n",
              "      <td>0.678079</td>\n",
              "      <td>-0.846733</td>\n",
              "      <td>0.488555</td>\n",
              "      <td>-1.038638</td>\n",
              "      <td>0.070492</td>\n",
              "      <td>0.647569</td>\n",
              "      <td>4.976069</td>\n",
              "    </tr>\n",
              "  </tbody>\n",
              "</table>\n",
              "</div>\n",
              "      <button class=\"colab-df-convert\" onclick=\"convertToInteractive('df-fe17b05d-8e17-46b5-bc13-6675057ed2d0')\"\n",
              "              title=\"Convert this dataframe to an interactive table.\"\n",
              "              style=\"display:none;\">\n",
              "        \n",
              "  <svg xmlns=\"http://www.w3.org/2000/svg\" height=\"24px\"viewBox=\"0 0 24 24\"\n",
              "       width=\"24px\">\n",
              "    <path d=\"M0 0h24v24H0V0z\" fill=\"none\"/>\n",
              "    <path d=\"M18.56 5.44l.94 2.06.94-2.06 2.06-.94-2.06-.94-.94-2.06-.94 2.06-2.06.94zm-11 1L8.5 8.5l.94-2.06 2.06-.94-2.06-.94L8.5 2.5l-.94 2.06-2.06.94zm10 10l.94 2.06.94-2.06 2.06-.94-2.06-.94-.94-2.06-.94 2.06-2.06.94z\"/><path d=\"M17.41 7.96l-1.37-1.37c-.4-.4-.92-.59-1.43-.59-.52 0-1.04.2-1.43.59L10.3 9.45l-7.72 7.72c-.78.78-.78 2.05 0 2.83L4 21.41c.39.39.9.59 1.41.59.51 0 1.02-.2 1.41-.59l7.78-7.78 2.81-2.81c.8-.78.8-2.07 0-2.86zM5.41 20L4 18.59l7.72-7.72 1.47 1.35L5.41 20z\"/>\n",
              "  </svg>\n",
              "      </button>\n",
              "      \n",
              "  <style>\n",
              "    .colab-df-container {\n",
              "      display:flex;\n",
              "      flex-wrap:wrap;\n",
              "      gap: 12px;\n",
              "    }\n",
              "\n",
              "    .colab-df-convert {\n",
              "      background-color: #E8F0FE;\n",
              "      border: none;\n",
              "      border-radius: 50%;\n",
              "      cursor: pointer;\n",
              "      display: none;\n",
              "      fill: #1967D2;\n",
              "      height: 32px;\n",
              "      padding: 0 0 0 0;\n",
              "      width: 32px;\n",
              "    }\n",
              "\n",
              "    .colab-df-convert:hover {\n",
              "      background-color: #E2EBFA;\n",
              "      box-shadow: 0px 1px 2px rgba(60, 64, 67, 0.3), 0px 1px 3px 1px rgba(60, 64, 67, 0.15);\n",
              "      fill: #174EA6;\n",
              "    }\n",
              "\n",
              "    [theme=dark] .colab-df-convert {\n",
              "      background-color: #3B4455;\n",
              "      fill: #D2E3FC;\n",
              "    }\n",
              "\n",
              "    [theme=dark] .colab-df-convert:hover {\n",
              "      background-color: #434B5C;\n",
              "      box-shadow: 0px 1px 3px 1px rgba(0, 0, 0, 0.15);\n",
              "      filter: drop-shadow(0px 1px 2px rgba(0, 0, 0, 0.3));\n",
              "      fill: #FFFFFF;\n",
              "    }\n",
              "  </style>\n",
              "\n",
              "      <script>\n",
              "        const buttonEl =\n",
              "          document.querySelector('#df-fe17b05d-8e17-46b5-bc13-6675057ed2d0 button.colab-df-convert');\n",
              "        buttonEl.style.display =\n",
              "          google.colab.kernel.accessAllowed ? 'block' : 'none';\n",
              "\n",
              "        async function convertToInteractive(key) {\n",
              "          const element = document.querySelector('#df-fe17b05d-8e17-46b5-bc13-6675057ed2d0');\n",
              "          const dataTable =\n",
              "            await google.colab.kernel.invokeFunction('convertToInteractive',\n",
              "                                                     [key], {});\n",
              "          if (!dataTable) return;\n",
              "\n",
              "          const docLinkHtml = 'Like what you see? Visit the ' +\n",
              "            '<a target=\"_blank\" href=https://colab.research.google.com/notebooks/data_table.ipynb>data table notebook</a>'\n",
              "            + ' to learn more about interactive tables.';\n",
              "          element.innerHTML = '';\n",
              "          dataTable['output_type'] = 'display_data';\n",
              "          await google.colab.output.renderOutput(dataTable, element);\n",
              "          const docLink = document.createElement('div');\n",
              "          docLink.innerHTML = docLinkHtml;\n",
              "          element.appendChild(docLink);\n",
              "        }\n",
              "      </script>\n",
              "    </div>\n",
              "  </div>\n",
              "  "
            ]
          },
          "metadata": {},
          "execution_count": 20
        }
      ]
    },
    {
      "cell_type": "markdown",
      "source": [
        "**Making the model**"
      ],
      "metadata": {
        "id": "iKjzia8XOyYa"
      }
    },
    {
      "cell_type": "code",
      "source": [
        "import tensorflow as tf\n",
        "from keras.models import Sequential\n",
        "from keras.layers import Activation,Dense"
      ],
      "metadata": {
        "id": "0zeFNujgOx0f"
      },
      "execution_count": 21,
      "outputs": []
    },
    {
      "cell_type": "code",
      "source": [
        "model = Sequential()\n",
        "model.add(Dense(10,activation = 'relu'))\n",
        "model.add(Dense(1))"
      ],
      "metadata": {
        "id": "juQkny5JPJaB"
      },
      "execution_count": 23,
      "outputs": []
    },
    {
      "cell_type": "code",
      "source": [
        "model.compile(optimizer = 'adam', loss = 'mean_squared_error')"
      ],
      "metadata": {
        "id": "rMRc3RbnPooE"
      },
      "execution_count": 28,
      "outputs": []
    },
    {
      "cell_type": "markdown",
      "source": [
        "**Training the model**"
      ],
      "metadata": {
        "id": "hBk6rzvsP5ph"
      }
    },
    {
      "cell_type": "code",
      "source": [
        "x_train,x_test,y_train,y_test = train_test_split(x,y,test_size = 0.3,random_state = 0)"
      ],
      "metadata": {
        "id": "dvMmRq3dP-7G"
      },
      "execution_count": 26,
      "outputs": []
    },
    {
      "cell_type": "code",
      "source": [
        "model.fit(x_train,y_train,verbose=1,epochs = 50)"
      ],
      "metadata": {
        "colab": {
          "base_uri": "https://localhost:8080/"
        },
        "id": "NV-myhw4QTB1",
        "outputId": "b482f5f8-87fe-4ad1-e279-3fea8d5379a7"
      },
      "execution_count": 32,
      "outputs": [
        {
          "output_type": "stream",
          "name": "stdout",
          "text": [
            "Epoch 1/50\n",
            "23/23 [==============================] - 0s 2ms/step - loss: 145.4064\n",
            "Epoch 2/50\n",
            "23/23 [==============================] - 0s 2ms/step - loss: 143.9647\n",
            "Epoch 3/50\n",
            "23/23 [==============================] - 0s 2ms/step - loss: 143.4358\n",
            "Epoch 4/50\n",
            "23/23 [==============================] - 0s 2ms/step - loss: 143.0728\n",
            "Epoch 5/50\n",
            "23/23 [==============================] - 0s 3ms/step - loss: 142.6612\n",
            "Epoch 6/50\n",
            "23/23 [==============================] - 0s 2ms/step - loss: 141.5932\n",
            "Epoch 7/50\n",
            "23/23 [==============================] - 0s 2ms/step - loss: 141.0833\n",
            "Epoch 8/50\n",
            "23/23 [==============================] - 0s 2ms/step - loss: 141.2612\n",
            "Epoch 9/50\n",
            "23/23 [==============================] - 0s 2ms/step - loss: 139.5643\n",
            "Epoch 10/50\n",
            "23/23 [==============================] - 0s 3ms/step - loss: 139.0756\n",
            "Epoch 11/50\n",
            "23/23 [==============================] - 0s 3ms/step - loss: 139.1033\n",
            "Epoch 12/50\n",
            "23/23 [==============================] - 0s 3ms/step - loss: 138.4187\n",
            "Epoch 13/50\n",
            "23/23 [==============================] - 0s 3ms/step - loss: 139.0061\n",
            "Epoch 14/50\n",
            "23/23 [==============================] - 0s 3ms/step - loss: 137.0706\n",
            "Epoch 15/50\n",
            "23/23 [==============================] - 0s 2ms/step - loss: 137.4362\n",
            "Epoch 16/50\n",
            "23/23 [==============================] - 0s 2ms/step - loss: 136.9687\n",
            "Epoch 17/50\n",
            "23/23 [==============================] - 0s 2ms/step - loss: 136.6895\n",
            "Epoch 18/50\n",
            "23/23 [==============================] - 0s 2ms/step - loss: 134.9943\n",
            "Epoch 19/50\n",
            "23/23 [==============================] - 0s 2ms/step - loss: 134.6700\n",
            "Epoch 20/50\n",
            "23/23 [==============================] - 0s 2ms/step - loss: 134.7063\n",
            "Epoch 21/50\n",
            "23/23 [==============================] - 0s 2ms/step - loss: 134.4126\n",
            "Epoch 22/50\n",
            "23/23 [==============================] - 0s 3ms/step - loss: 134.0847\n",
            "Epoch 23/50\n",
            "23/23 [==============================] - 0s 3ms/step - loss: 132.1927\n",
            "Epoch 24/50\n",
            "23/23 [==============================] - 0s 3ms/step - loss: 132.8979\n",
            "Epoch 25/50\n",
            "23/23 [==============================] - 0s 2ms/step - loss: 131.6516\n",
            "Epoch 26/50\n",
            "23/23 [==============================] - 0s 3ms/step - loss: 131.2267\n",
            "Epoch 27/50\n",
            "23/23 [==============================] - 0s 3ms/step - loss: 131.1780\n",
            "Epoch 28/50\n",
            "23/23 [==============================] - 0s 2ms/step - loss: 131.0066\n",
            "Epoch 29/50\n",
            "23/23 [==============================] - 0s 2ms/step - loss: 131.9430\n",
            "Epoch 30/50\n",
            "23/23 [==============================] - 0s 2ms/step - loss: 129.4876\n",
            "Epoch 31/50\n",
            "23/23 [==============================] - 0s 2ms/step - loss: 129.8291\n",
            "Epoch 32/50\n",
            "23/23 [==============================] - 0s 2ms/step - loss: 129.3700\n",
            "Epoch 33/50\n",
            "23/23 [==============================] - 0s 2ms/step - loss: 128.5968\n",
            "Epoch 34/50\n",
            "23/23 [==============================] - 0s 2ms/step - loss: 129.0658\n",
            "Epoch 35/50\n",
            "23/23 [==============================] - 0s 3ms/step - loss: 128.6551\n",
            "Epoch 36/50\n",
            "23/23 [==============================] - 0s 2ms/step - loss: 128.6687\n",
            "Epoch 37/50\n",
            "23/23 [==============================] - 0s 2ms/step - loss: 126.9942\n",
            "Epoch 38/50\n",
            "23/23 [==============================] - 0s 2ms/step - loss: 128.1448\n",
            "Epoch 39/50\n",
            "23/23 [==============================] - 0s 2ms/step - loss: 126.7250\n",
            "Epoch 40/50\n",
            "23/23 [==============================] - 0s 3ms/step - loss: 126.0891\n",
            "Epoch 41/50\n",
            "23/23 [==============================] - 0s 2ms/step - loss: 125.6814\n",
            "Epoch 42/50\n",
            "23/23 [==============================] - 0s 2ms/step - loss: 125.4193\n",
            "Epoch 43/50\n",
            "23/23 [==============================] - 0s 2ms/step - loss: 125.1193\n",
            "Epoch 44/50\n",
            "23/23 [==============================] - 0s 3ms/step - loss: 125.2769\n",
            "Epoch 45/50\n",
            "23/23 [==============================] - 0s 2ms/step - loss: 126.1074\n",
            "Epoch 46/50\n",
            "23/23 [==============================] - 0s 3ms/step - loss: 123.9382\n",
            "Epoch 47/50\n",
            "23/23 [==============================] - 0s 2ms/step - loss: 126.2842\n",
            "Epoch 48/50\n",
            "23/23 [==============================] - 0s 2ms/step - loss: 125.2609\n",
            "Epoch 49/50\n",
            "23/23 [==============================] - 0s 2ms/step - loss: 123.6842\n",
            "Epoch 50/50\n",
            "23/23 [==============================] - 0s 2ms/step - loss: 123.1284\n"
          ]
        },
        {
          "output_type": "execute_result",
          "data": {
            "text/plain": [
              "<keras.callbacks.History at 0x7fd88444ee50>"
            ]
          },
          "metadata": {},
          "execution_count": 32
        }
      ]
    },
    {
      "cell_type": "markdown",
      "source": [
        "**Evaluating the model**"
      ],
      "metadata": {
        "id": "NJWBVs1XQuv7"
      }
    },
    {
      "cell_type": "code",
      "source": [
        "loss_val = model.evaluate(x_test,y_test)\n",
        "y_pred = model.predict(x_test)\n",
        "loss_val"
      ],
      "metadata": {
        "colab": {
          "base_uri": "https://localhost:8080/"
        },
        "id": "3X_veCwJQl4V",
        "outputId": "7d84c2b2-e860-4548-b7e1-8a92c9a4149b"
      },
      "execution_count": 34,
      "outputs": [
        {
          "output_type": "stream",
          "name": "stdout",
          "text": [
            "10/10 [==============================] - 0s 3ms/step - loss: 100.3927\n",
            "10/10 [==============================] - 0s 2ms/step\n"
          ]
        },
        {
          "output_type": "execute_result",
          "data": {
            "text/plain": [
              "100.39268493652344"
            ]
          },
          "metadata": {},
          "execution_count": 34
        }
      ]
    },
    {
      "cell_type": "markdown",
      "source": [
        "**Making List of MSE(s)**"
      ],
      "metadata": {
        "id": "CaaHSObMQ_d1"
      }
    },
    {
      "cell_type": "code",
      "source": [
        "list_of_errors = []\n",
        "for i in range(50):\n",
        "  x_train,x_test,y_train,y_test = train_test_split(x,y,test_size = 0.3, random_state = i)\n",
        "  model.fit(x_train,y_train,verbose = 0)\n",
        "  loss_val = model.evaluate(x_test,y_test,verbose = 0)\n",
        "  print(f\"MSE {i+1}:\",loss_val)\n",
        "  list_of_errors.append(loss_val)"
      ],
      "metadata": {
        "colab": {
          "base_uri": "https://localhost:8080/"
        },
        "id": "s-61_VBYREYW",
        "outputId": "df683c0a-c188-42d3-99b4-b3e57d69b3e0"
      },
      "execution_count": 37,
      "outputs": [
        {
          "output_type": "stream",
          "name": "stdout",
          "text": [
            "MSE 1: 95.26866149902344\n",
            "MSE 2: 120.21116638183594\n",
            "MSE 3: 108.70716857910156\n",
            "MSE 4: 121.32512664794922\n",
            "MSE 5: 126.16338348388672\n",
            "MSE 6: 106.0439453125\n",
            "MSE 7: 135.3616180419922\n",
            "MSE 8: 103.78723907470703\n",
            "MSE 9: 127.89115905761719\n",
            "MSE 10: 112.09565734863281\n",
            "MSE 11: 106.71613311767578\n",
            "MSE 12: 101.14644622802734\n",
            "MSE 13: 113.0159683227539\n",
            "MSE 14: 117.88050842285156\n",
            "MSE 15: 109.27386474609375\n",
            "MSE 16: 103.88585662841797\n",
            "MSE 17: 104.93899536132812\n",
            "MSE 18: 97.94039154052734\n",
            "MSE 19: 106.00360107421875\n",
            "MSE 20: 116.55160522460938\n",
            "MSE 21: 96.26023864746094\n",
            "MSE 22: 104.8074722290039\n",
            "MSE 23: 107.06867218017578\n",
            "MSE 24: 108.80097198486328\n",
            "MSE 25: 105.03730010986328\n",
            "MSE 26: 102.09750366210938\n",
            "MSE 27: 118.83270263671875\n",
            "MSE 28: 109.08807373046875\n",
            "MSE 29: 111.26395416259766\n",
            "MSE 30: 111.3885498046875\n",
            "MSE 31: 127.78063201904297\n",
            "MSE 32: 105.32234954833984\n",
            "MSE 33: 104.52847290039062\n",
            "MSE 34: 108.96353912353516\n",
            "MSE 35: 110.68740844726562\n",
            "MSE 36: 129.96327209472656\n",
            "MSE 37: 117.67010498046875\n",
            "MSE 38: 111.970458984375\n",
            "MSE 39: 108.72270965576172\n",
            "MSE 40: 110.43157196044922\n",
            "MSE 41: 114.05474853515625\n",
            "MSE 42: 108.478759765625\n",
            "MSE 43: 113.17949676513672\n",
            "MSE 44: 106.5912857055664\n",
            "MSE 45: 113.47039031982422\n",
            "MSE 46: 111.90013122558594\n",
            "MSE 47: 112.6222915649414\n",
            "MSE 48: 112.48587799072266\n",
            "MSE 49: 100.69401550292969\n",
            "MSE 50: 110.29290771484375\n"
          ]
        }
      ]
    },
    {
      "cell_type": "code",
      "source": [
        "mean = np.mean(list_of_errors)\n",
        "std = np.std(list_of_errors)\n",
        "print(\"For part A\")\n",
        "print(f\"Mean is {108.389}\\tStandard Deviation is {7.771}\")\n",
        "print(\"For Part B\")\n",
        "print(f\"Mean is {mean}\\tStandard Deviation is {std}\")"
      ],
      "metadata": {
        "colab": {
          "base_uri": "https://localhost:8080/"
        },
        "id": "iRRHT02jRPjj",
        "outputId": "53dbf727-5534-47fc-96e4-12bbbbf4017e"
      },
      "execution_count": 38,
      "outputs": [
        {
          "output_type": "stream",
          "name": "stdout",
          "text": [
            "For part A\n",
            "Mean is 108.389\tStandard Deviation is 7.771\n",
            "For Part B\n",
            "Mean is 110.97328720092773\tStandard Deviation is 8.365347740970734\n"
          ]
        }
      ]
    }
  ]
}