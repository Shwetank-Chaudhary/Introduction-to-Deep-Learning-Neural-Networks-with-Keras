{
  "nbformat": 4,
  "nbformat_minor": 0,
  "metadata": {
    "colab": {
      "provenance": [],
      "authorship_tag": "ABX9TyOkWGLqMkK+dBZFR/2amrnc",
      "include_colab_link": true
    },
    "kernelspec": {
      "name": "python3",
      "display_name": "Python 3"
    },
    "language_info": {
      "name": "python"
    }
  },
  "cells": [
    {
      "cell_type": "markdown",
      "metadata": {
        "id": "view-in-github",
        "colab_type": "text"
      },
      "source": [
        "<a href=\"https://colab.research.google.com/github/Shwetank-Chaudhary/Introduction-to-Deep-Learning-Neural-Networks-with-Keras/blob/main/Part_C.ipynb\" target=\"_parent\"><img src=\"https://colab.research.google.com/assets/colab-badge.svg\" alt=\"Open In Colab\"/></a>"
      ]
    },
    {
      "cell_type": "code",
      "execution_count": null,
      "metadata": {
        "id": "3IpO3UTNMHrq"
      },
      "outputs": [],
      "source": [
        "import pandas as pd\n",
        "import numpy as np \n",
        "from sklearn.model_selection import train_test_split"
      ]
    },
    {
      "cell_type": "code",
      "source": [
        "file = pd.read_csv(\"https://raw.githubusercontent.com/Shwetank-Chaudhary/Introduction-to-Deep-Learning-Neural-Networks-with-Keras/main/concrete_data.csv\")"
      ],
      "metadata": {
        "id": "3y_ya4PjM9up"
      },
      "execution_count": null,
      "outputs": []
    },
    {
      "cell_type": "code",
      "source": [
        "file.head()"
      ],
      "metadata": {
        "colab": {
          "base_uri": "https://localhost:8080/",
          "height": 206
        },
        "id": "isXsJaiaM9hF",
        "outputId": "68651c7c-1e51-4c41-9c91-62807fc61808"
      },
      "execution_count": null,
      "outputs": [
        {
          "output_type": "execute_result",
          "data": {
            "text/plain": [
              "   Cement  Blast Furnace Slag  Fly Ash  Water  Superplasticizer  \\\n",
              "0   540.0                 0.0      0.0  162.0               2.5   \n",
              "1   540.0                 0.0      0.0  162.0               2.5   \n",
              "2   332.5               142.5      0.0  228.0               0.0   \n",
              "3   332.5               142.5      0.0  228.0               0.0   \n",
              "4   198.6               132.4      0.0  192.0               0.0   \n",
              "\n",
              "   Coarse Aggregate  Fine Aggregate  Age  Strength  \n",
              "0            1040.0           676.0   28     79.99  \n",
              "1            1055.0           676.0   28     61.89  \n",
              "2             932.0           594.0  270     40.27  \n",
              "3             932.0           594.0  365     41.05  \n",
              "4             978.4           825.5  360     44.30  "
            ],
            "text/html": [
              "\n",
              "  <div id=\"df-cdc45b01-1c46-4b80-af66-f9b80c041788\">\n",
              "    <div class=\"colab-df-container\">\n",
              "      <div>\n",
              "<style scoped>\n",
              "    .dataframe tbody tr th:only-of-type {\n",
              "        vertical-align: middle;\n",
              "    }\n",
              "\n",
              "    .dataframe tbody tr th {\n",
              "        vertical-align: top;\n",
              "    }\n",
              "\n",
              "    .dataframe thead th {\n",
              "        text-align: right;\n",
              "    }\n",
              "</style>\n",
              "<table border=\"1\" class=\"dataframe\">\n",
              "  <thead>\n",
              "    <tr style=\"text-align: right;\">\n",
              "      <th></th>\n",
              "      <th>Cement</th>\n",
              "      <th>Blast Furnace Slag</th>\n",
              "      <th>Fly Ash</th>\n",
              "      <th>Water</th>\n",
              "      <th>Superplasticizer</th>\n",
              "      <th>Coarse Aggregate</th>\n",
              "      <th>Fine Aggregate</th>\n",
              "      <th>Age</th>\n",
              "      <th>Strength</th>\n",
              "    </tr>\n",
              "  </thead>\n",
              "  <tbody>\n",
              "    <tr>\n",
              "      <th>0</th>\n",
              "      <td>540.0</td>\n",
              "      <td>0.0</td>\n",
              "      <td>0.0</td>\n",
              "      <td>162.0</td>\n",
              "      <td>2.5</td>\n",
              "      <td>1040.0</td>\n",
              "      <td>676.0</td>\n",
              "      <td>28</td>\n",
              "      <td>79.99</td>\n",
              "    </tr>\n",
              "    <tr>\n",
              "      <th>1</th>\n",
              "      <td>540.0</td>\n",
              "      <td>0.0</td>\n",
              "      <td>0.0</td>\n",
              "      <td>162.0</td>\n",
              "      <td>2.5</td>\n",
              "      <td>1055.0</td>\n",
              "      <td>676.0</td>\n",
              "      <td>28</td>\n",
              "      <td>61.89</td>\n",
              "    </tr>\n",
              "    <tr>\n",
              "      <th>2</th>\n",
              "      <td>332.5</td>\n",
              "      <td>142.5</td>\n",
              "      <td>0.0</td>\n",
              "      <td>228.0</td>\n",
              "      <td>0.0</td>\n",
              "      <td>932.0</td>\n",
              "      <td>594.0</td>\n",
              "      <td>270</td>\n",
              "      <td>40.27</td>\n",
              "    </tr>\n",
              "    <tr>\n",
              "      <th>3</th>\n",
              "      <td>332.5</td>\n",
              "      <td>142.5</td>\n",
              "      <td>0.0</td>\n",
              "      <td>228.0</td>\n",
              "      <td>0.0</td>\n",
              "      <td>932.0</td>\n",
              "      <td>594.0</td>\n",
              "      <td>365</td>\n",
              "      <td>41.05</td>\n",
              "    </tr>\n",
              "    <tr>\n",
              "      <th>4</th>\n",
              "      <td>198.6</td>\n",
              "      <td>132.4</td>\n",
              "      <td>0.0</td>\n",
              "      <td>192.0</td>\n",
              "      <td>0.0</td>\n",
              "      <td>978.4</td>\n",
              "      <td>825.5</td>\n",
              "      <td>360</td>\n",
              "      <td>44.30</td>\n",
              "    </tr>\n",
              "  </tbody>\n",
              "</table>\n",
              "</div>\n",
              "      <button class=\"colab-df-convert\" onclick=\"convertToInteractive('df-cdc45b01-1c46-4b80-af66-f9b80c041788')\"\n",
              "              title=\"Convert this dataframe to an interactive table.\"\n",
              "              style=\"display:none;\">\n",
              "        \n",
              "  <svg xmlns=\"http://www.w3.org/2000/svg\" height=\"24px\"viewBox=\"0 0 24 24\"\n",
              "       width=\"24px\">\n",
              "    <path d=\"M0 0h24v24H0V0z\" fill=\"none\"/>\n",
              "    <path d=\"M18.56 5.44l.94 2.06.94-2.06 2.06-.94-2.06-.94-.94-2.06-.94 2.06-2.06.94zm-11 1L8.5 8.5l.94-2.06 2.06-.94-2.06-.94L8.5 2.5l-.94 2.06-2.06.94zm10 10l.94 2.06.94-2.06 2.06-.94-2.06-.94-.94-2.06-.94 2.06-2.06.94z\"/><path d=\"M17.41 7.96l-1.37-1.37c-.4-.4-.92-.59-1.43-.59-.52 0-1.04.2-1.43.59L10.3 9.45l-7.72 7.72c-.78.78-.78 2.05 0 2.83L4 21.41c.39.39.9.59 1.41.59.51 0 1.02-.2 1.41-.59l7.78-7.78 2.81-2.81c.8-.78.8-2.07 0-2.86zM5.41 20L4 18.59l7.72-7.72 1.47 1.35L5.41 20z\"/>\n",
              "  </svg>\n",
              "      </button>\n",
              "      \n",
              "  <style>\n",
              "    .colab-df-container {\n",
              "      display:flex;\n",
              "      flex-wrap:wrap;\n",
              "      gap: 12px;\n",
              "    }\n",
              "\n",
              "    .colab-df-convert {\n",
              "      background-color: #E8F0FE;\n",
              "      border: none;\n",
              "      border-radius: 50%;\n",
              "      cursor: pointer;\n",
              "      display: none;\n",
              "      fill: #1967D2;\n",
              "      height: 32px;\n",
              "      padding: 0 0 0 0;\n",
              "      width: 32px;\n",
              "    }\n",
              "\n",
              "    .colab-df-convert:hover {\n",
              "      background-color: #E2EBFA;\n",
              "      box-shadow: 0px 1px 2px rgba(60, 64, 67, 0.3), 0px 1px 3px 1px rgba(60, 64, 67, 0.15);\n",
              "      fill: #174EA6;\n",
              "    }\n",
              "\n",
              "    [theme=dark] .colab-df-convert {\n",
              "      background-color: #3B4455;\n",
              "      fill: #D2E3FC;\n",
              "    }\n",
              "\n",
              "    [theme=dark] .colab-df-convert:hover {\n",
              "      background-color: #434B5C;\n",
              "      box-shadow: 0px 1px 3px 1px rgba(0, 0, 0, 0.15);\n",
              "      filter: drop-shadow(0px 1px 2px rgba(0, 0, 0, 0.3));\n",
              "      fill: #FFFFFF;\n",
              "    }\n",
              "  </style>\n",
              "\n",
              "      <script>\n",
              "        const buttonEl =\n",
              "          document.querySelector('#df-cdc45b01-1c46-4b80-af66-f9b80c041788 button.colab-df-convert');\n",
              "        buttonEl.style.display =\n",
              "          google.colab.kernel.accessAllowed ? 'block' : 'none';\n",
              "\n",
              "        async function convertToInteractive(key) {\n",
              "          const element = document.querySelector('#df-cdc45b01-1c46-4b80-af66-f9b80c041788');\n",
              "          const dataTable =\n",
              "            await google.colab.kernel.invokeFunction('convertToInteractive',\n",
              "                                                     [key], {});\n",
              "          if (!dataTable) return;\n",
              "\n",
              "          const docLinkHtml = 'Like what you see? Visit the ' +\n",
              "            '<a target=\"_blank\" href=https://colab.research.google.com/notebooks/data_table.ipynb>data table notebook</a>'\n",
              "            + ' to learn more about interactive tables.';\n",
              "          element.innerHTML = '';\n",
              "          dataTable['output_type'] = 'display_data';\n",
              "          await google.colab.output.renderOutput(dataTable, element);\n",
              "          const docLink = document.createElement('div');\n",
              "          docLink.innerHTML = docLinkHtml;\n",
              "          element.appendChild(docLink);\n",
              "        }\n",
              "      </script>\n",
              "    </div>\n",
              "  </div>\n",
              "  "
            ]
          },
          "metadata": {},
          "execution_count": 22
        }
      ]
    },
    {
      "cell_type": "markdown",
      "source": [
        "Repeat Part A but use a normalized version of the data. "
      ],
      "metadata": {
        "id": "5vUoPQnwNOBH"
      }
    },
    {
      "cell_type": "code",
      "source": [
        "x = file.iloc[:,:-1]      #Predictors\n",
        "y = file['Strength']      #Target"
      ],
      "metadata": {
        "id": "EA51v01kNUia"
      },
      "execution_count": null,
      "outputs": []
    },
    {
      "cell_type": "code",
      "source": [
        "print(x.shape,y.shape,sep='\\n')"
      ],
      "metadata": {
        "colab": {
          "base_uri": "https://localhost:8080/"
        },
        "id": "tUZNDJW6NvWT",
        "outputId": "813fbfa0-0b19-4cbe-e5f8-b8c32ba99459"
      },
      "execution_count": null,
      "outputs": [
        {
          "output_type": "stream",
          "name": "stdout",
          "text": [
            "(1030, 8)\n",
            "(1030,)\n"
          ]
        }
      ]
    },
    {
      "cell_type": "markdown",
      "source": [
        "**Normalising the Predictors**"
      ],
      "metadata": {
        "id": "xto3m2qMOPOg"
      }
    },
    {
      "cell_type": "code",
      "source": [
        "x_norm = (x-x.mean())/x.std()"
      ],
      "metadata": {
        "id": "OQM3-Wr4ONNe"
      },
      "execution_count": null,
      "outputs": []
    },
    {
      "cell_type": "code",
      "source": [
        "x_norm.head()"
      ],
      "metadata": {
        "colab": {
          "base_uri": "https://localhost:8080/",
          "height": 206
        },
        "id": "qW9G6H8-OsiG",
        "outputId": "e200ff29-f661-4f18-e98f-3139cae09072"
      },
      "execution_count": null,
      "outputs": [
        {
          "output_type": "execute_result",
          "data": {
            "text/plain": [
              "     Cement  Blast Furnace Slag   Fly Ash     Water  Superplasticizer  \\\n",
              "0  2.476712           -0.856472 -0.846733 -0.916319         -0.620147   \n",
              "1  2.476712           -0.856472 -0.846733 -0.916319         -0.620147   \n",
              "2  0.491187            0.795140 -0.846733  2.174405         -1.038638   \n",
              "3  0.491187            0.795140 -0.846733  2.174405         -1.038638   \n",
              "4 -0.790075            0.678079 -0.846733  0.488555         -1.038638   \n",
              "\n",
              "   Coarse Aggregate  Fine Aggregate       Age  \n",
              "0          0.862735       -1.217079 -0.279597  \n",
              "1          1.055651       -1.217079 -0.279597  \n",
              "2         -0.526262       -2.239829  3.551340  \n",
              "3         -0.526262       -2.239829  5.055221  \n",
              "4          0.070492        0.647569  4.976069  "
            ],
            "text/html": [
              "\n",
              "  <div id=\"df-866e4e7d-1e20-4645-826a-2f1b1a943881\">\n",
              "    <div class=\"colab-df-container\">\n",
              "      <div>\n",
              "<style scoped>\n",
              "    .dataframe tbody tr th:only-of-type {\n",
              "        vertical-align: middle;\n",
              "    }\n",
              "\n",
              "    .dataframe tbody tr th {\n",
              "        vertical-align: top;\n",
              "    }\n",
              "\n",
              "    .dataframe thead th {\n",
              "        text-align: right;\n",
              "    }\n",
              "</style>\n",
              "<table border=\"1\" class=\"dataframe\">\n",
              "  <thead>\n",
              "    <tr style=\"text-align: right;\">\n",
              "      <th></th>\n",
              "      <th>Cement</th>\n",
              "      <th>Blast Furnace Slag</th>\n",
              "      <th>Fly Ash</th>\n",
              "      <th>Water</th>\n",
              "      <th>Superplasticizer</th>\n",
              "      <th>Coarse Aggregate</th>\n",
              "      <th>Fine Aggregate</th>\n",
              "      <th>Age</th>\n",
              "    </tr>\n",
              "  </thead>\n",
              "  <tbody>\n",
              "    <tr>\n",
              "      <th>0</th>\n",
              "      <td>2.476712</td>\n",
              "      <td>-0.856472</td>\n",
              "      <td>-0.846733</td>\n",
              "      <td>-0.916319</td>\n",
              "      <td>-0.620147</td>\n",
              "      <td>0.862735</td>\n",
              "      <td>-1.217079</td>\n",
              "      <td>-0.279597</td>\n",
              "    </tr>\n",
              "    <tr>\n",
              "      <th>1</th>\n",
              "      <td>2.476712</td>\n",
              "      <td>-0.856472</td>\n",
              "      <td>-0.846733</td>\n",
              "      <td>-0.916319</td>\n",
              "      <td>-0.620147</td>\n",
              "      <td>1.055651</td>\n",
              "      <td>-1.217079</td>\n",
              "      <td>-0.279597</td>\n",
              "    </tr>\n",
              "    <tr>\n",
              "      <th>2</th>\n",
              "      <td>0.491187</td>\n",
              "      <td>0.795140</td>\n",
              "      <td>-0.846733</td>\n",
              "      <td>2.174405</td>\n",
              "      <td>-1.038638</td>\n",
              "      <td>-0.526262</td>\n",
              "      <td>-2.239829</td>\n",
              "      <td>3.551340</td>\n",
              "    </tr>\n",
              "    <tr>\n",
              "      <th>3</th>\n",
              "      <td>0.491187</td>\n",
              "      <td>0.795140</td>\n",
              "      <td>-0.846733</td>\n",
              "      <td>2.174405</td>\n",
              "      <td>-1.038638</td>\n",
              "      <td>-0.526262</td>\n",
              "      <td>-2.239829</td>\n",
              "      <td>5.055221</td>\n",
              "    </tr>\n",
              "    <tr>\n",
              "      <th>4</th>\n",
              "      <td>-0.790075</td>\n",
              "      <td>0.678079</td>\n",
              "      <td>-0.846733</td>\n",
              "      <td>0.488555</td>\n",
              "      <td>-1.038638</td>\n",
              "      <td>0.070492</td>\n",
              "      <td>0.647569</td>\n",
              "      <td>4.976069</td>\n",
              "    </tr>\n",
              "  </tbody>\n",
              "</table>\n",
              "</div>\n",
              "      <button class=\"colab-df-convert\" onclick=\"convertToInteractive('df-866e4e7d-1e20-4645-826a-2f1b1a943881')\"\n",
              "              title=\"Convert this dataframe to an interactive table.\"\n",
              "              style=\"display:none;\">\n",
              "        \n",
              "  <svg xmlns=\"http://www.w3.org/2000/svg\" height=\"24px\"viewBox=\"0 0 24 24\"\n",
              "       width=\"24px\">\n",
              "    <path d=\"M0 0h24v24H0V0z\" fill=\"none\"/>\n",
              "    <path d=\"M18.56 5.44l.94 2.06.94-2.06 2.06-.94-2.06-.94-.94-2.06-.94 2.06-2.06.94zm-11 1L8.5 8.5l.94-2.06 2.06-.94-2.06-.94L8.5 2.5l-.94 2.06-2.06.94zm10 10l.94 2.06.94-2.06 2.06-.94-2.06-.94-.94-2.06-.94 2.06-2.06.94z\"/><path d=\"M17.41 7.96l-1.37-1.37c-.4-.4-.92-.59-1.43-.59-.52 0-1.04.2-1.43.59L10.3 9.45l-7.72 7.72c-.78.78-.78 2.05 0 2.83L4 21.41c.39.39.9.59 1.41.59.51 0 1.02-.2 1.41-.59l7.78-7.78 2.81-2.81c.8-.78.8-2.07 0-2.86zM5.41 20L4 18.59l7.72-7.72 1.47 1.35L5.41 20z\"/>\n",
              "  </svg>\n",
              "      </button>\n",
              "      \n",
              "  <style>\n",
              "    .colab-df-container {\n",
              "      display:flex;\n",
              "      flex-wrap:wrap;\n",
              "      gap: 12px;\n",
              "    }\n",
              "\n",
              "    .colab-df-convert {\n",
              "      background-color: #E8F0FE;\n",
              "      border: none;\n",
              "      border-radius: 50%;\n",
              "      cursor: pointer;\n",
              "      display: none;\n",
              "      fill: #1967D2;\n",
              "      height: 32px;\n",
              "      padding: 0 0 0 0;\n",
              "      width: 32px;\n",
              "    }\n",
              "\n",
              "    .colab-df-convert:hover {\n",
              "      background-color: #E2EBFA;\n",
              "      box-shadow: 0px 1px 2px rgba(60, 64, 67, 0.3), 0px 1px 3px 1px rgba(60, 64, 67, 0.15);\n",
              "      fill: #174EA6;\n",
              "    }\n",
              "\n",
              "    [theme=dark] .colab-df-convert {\n",
              "      background-color: #3B4455;\n",
              "      fill: #D2E3FC;\n",
              "    }\n",
              "\n",
              "    [theme=dark] .colab-df-convert:hover {\n",
              "      background-color: #434B5C;\n",
              "      box-shadow: 0px 1px 3px 1px rgba(0, 0, 0, 0.15);\n",
              "      filter: drop-shadow(0px 1px 2px rgba(0, 0, 0, 0.3));\n",
              "      fill: #FFFFFF;\n",
              "    }\n",
              "  </style>\n",
              "\n",
              "      <script>\n",
              "        const buttonEl =\n",
              "          document.querySelector('#df-866e4e7d-1e20-4645-826a-2f1b1a943881 button.colab-df-convert');\n",
              "        buttonEl.style.display =\n",
              "          google.colab.kernel.accessAllowed ? 'block' : 'none';\n",
              "\n",
              "        async function convertToInteractive(key) {\n",
              "          const element = document.querySelector('#df-866e4e7d-1e20-4645-826a-2f1b1a943881');\n",
              "          const dataTable =\n",
              "            await google.colab.kernel.invokeFunction('convertToInteractive',\n",
              "                                                     [key], {});\n",
              "          if (!dataTable) return;\n",
              "\n",
              "          const docLinkHtml = 'Like what you see? Visit the ' +\n",
              "            '<a target=\"_blank\" href=https://colab.research.google.com/notebooks/data_table.ipynb>data table notebook</a>'\n",
              "            + ' to learn more about interactive tables.';\n",
              "          element.innerHTML = '';\n",
              "          dataTable['output_type'] = 'display_data';\n",
              "          await google.colab.output.renderOutput(dataTable, element);\n",
              "          const docLink = document.createElement('div');\n",
              "          docLink.innerHTML = docLinkHtml;\n",
              "          element.appendChild(docLink);\n",
              "        }\n",
              "      </script>\n",
              "    </div>\n",
              "  </div>\n",
              "  "
            ]
          },
          "metadata": {},
          "execution_count": 26
        }
      ]
    },
    {
      "cell_type": "markdown",
      "source": [
        "**Making the model**"
      ],
      "metadata": {
        "id": "iKjzia8XOyYa"
      }
    },
    {
      "cell_type": "code",
      "source": [
        "import tensorflow as tf\n",
        "from keras.models import Sequential\n",
        "from keras.layers import Activation,Dense"
      ],
      "metadata": {
        "id": "0zeFNujgOx0f"
      },
      "execution_count": null,
      "outputs": []
    },
    {
      "cell_type": "code",
      "source": [
        "model = Sequential()\n",
        "model.add(Dense(10,activation = 'relu'))\n",
        "model.add(Dense(1))"
      ],
      "metadata": {
        "id": "juQkny5JPJaB"
      },
      "execution_count": null,
      "outputs": []
    },
    {
      "cell_type": "code",
      "source": [
        "model.compile(optimizer = 'adam', loss = 'mean_squared_error')"
      ],
      "metadata": {
        "id": "rMRc3RbnPooE"
      },
      "execution_count": null,
      "outputs": []
    },
    {
      "cell_type": "markdown",
      "source": [
        "**Training the model**"
      ],
      "metadata": {
        "id": "hBk6rzvsP5ph"
      }
    },
    {
      "cell_type": "code",
      "source": [
        "x_train,x_test,y_train,y_test = train_test_split(x,y,test_size = 0.3,random_state = 0)"
      ],
      "metadata": {
        "id": "dvMmRq3dP-7G"
      },
      "execution_count": null,
      "outputs": []
    },
    {
      "cell_type": "code",
      "source": [
        "model.fit(x_train,y_train,verbose=1,epochs = 100)"
      ],
      "metadata": {
        "colab": {
          "base_uri": "https://localhost:8080/"
        },
        "id": "NV-myhw4QTB1",
        "outputId": "0b616f77-f0e2-4754-8826-8fd8697aca63"
      },
      "execution_count": null,
      "outputs": [
        {
          "output_type": "stream",
          "name": "stdout",
          "text": [
            "Epoch 1/100\n",
            "23/23 [==============================] - 1s 2ms/step - loss: 12794.4219\n",
            "Epoch 2/100\n",
            "23/23 [==============================] - 0s 2ms/step - loss: 2127.2878\n",
            "Epoch 3/100\n",
            "23/23 [==============================] - 0s 2ms/step - loss: 1791.4547\n",
            "Epoch 4/100\n",
            "23/23 [==============================] - 0s 1ms/step - loss: 1598.1522\n",
            "Epoch 5/100\n",
            "23/23 [==============================] - 0s 2ms/step - loss: 1444.6576\n",
            "Epoch 6/100\n",
            "23/23 [==============================] - 0s 2ms/step - loss: 1303.9879\n",
            "Epoch 7/100\n",
            "23/23 [==============================] - 0s 2ms/step - loss: 1183.8680\n",
            "Epoch 8/100\n",
            "23/23 [==============================] - 0s 2ms/step - loss: 1077.9080\n",
            "Epoch 9/100\n",
            "23/23 [==============================] - 0s 2ms/step - loss: 987.0798\n",
            "Epoch 10/100\n",
            "23/23 [==============================] - 0s 1ms/step - loss: 908.3768\n",
            "Epoch 11/100\n",
            "23/23 [==============================] - 0s 2ms/step - loss: 843.0948\n",
            "Epoch 12/100\n",
            "23/23 [==============================] - 0s 1ms/step - loss: 785.7789\n",
            "Epoch 13/100\n",
            "23/23 [==============================] - 0s 2ms/step - loss: 735.7924\n",
            "Epoch 14/100\n",
            "23/23 [==============================] - 0s 1ms/step - loss: 694.2749\n",
            "Epoch 15/100\n",
            "23/23 [==============================] - 0s 1ms/step - loss: 654.0176\n",
            "Epoch 16/100\n",
            "23/23 [==============================] - 0s 1ms/step - loss: 617.4957\n",
            "Epoch 17/100\n",
            "23/23 [==============================] - 0s 2ms/step - loss: 589.7750\n",
            "Epoch 18/100\n",
            "23/23 [==============================] - 0s 1ms/step - loss: 556.3689\n",
            "Epoch 19/100\n",
            "23/23 [==============================] - 0s 2ms/step - loss: 530.8594\n",
            "Epoch 20/100\n",
            "23/23 [==============================] - 0s 2ms/step - loss: 505.0246\n",
            "Epoch 21/100\n",
            "23/23 [==============================] - 0s 1ms/step - loss: 483.7823\n",
            "Epoch 22/100\n",
            "23/23 [==============================] - 0s 1ms/step - loss: 461.3149\n",
            "Epoch 23/100\n",
            "23/23 [==============================] - 0s 2ms/step - loss: 441.1991\n",
            "Epoch 24/100\n",
            "23/23 [==============================] - 0s 1ms/step - loss: 418.6972\n",
            "Epoch 25/100\n",
            "23/23 [==============================] - 0s 1ms/step - loss: 403.3848\n",
            "Epoch 26/100\n",
            "23/23 [==============================] - 0s 1ms/step - loss: 381.2523\n",
            "Epoch 27/100\n",
            "23/23 [==============================] - 0s 1ms/step - loss: 365.3352\n",
            "Epoch 28/100\n",
            "23/23 [==============================] - 0s 1ms/step - loss: 349.5416\n",
            "Epoch 29/100\n",
            "23/23 [==============================] - 0s 1ms/step - loss: 334.9192\n",
            "Epoch 30/100\n",
            "23/23 [==============================] - 0s 2ms/step - loss: 320.5097\n",
            "Epoch 31/100\n",
            "23/23 [==============================] - 0s 1ms/step - loss: 307.9796\n",
            "Epoch 32/100\n",
            "23/23 [==============================] - 0s 3ms/step - loss: 297.3127\n",
            "Epoch 33/100\n",
            "23/23 [==============================] - 0s 2ms/step - loss: 282.4439\n",
            "Epoch 34/100\n",
            "23/23 [==============================] - 0s 3ms/step - loss: 272.8022\n",
            "Epoch 35/100\n",
            "23/23 [==============================] - 0s 3ms/step - loss: 262.8262\n",
            "Epoch 36/100\n",
            "23/23 [==============================] - 0s 3ms/step - loss: 250.3627\n",
            "Epoch 37/100\n",
            "23/23 [==============================] - 0s 3ms/step - loss: 246.9318\n",
            "Epoch 38/100\n",
            "23/23 [==============================] - 0s 2ms/step - loss: 235.6099\n",
            "Epoch 39/100\n",
            "23/23 [==============================] - 0s 2ms/step - loss: 230.8277\n",
            "Epoch 40/100\n",
            "23/23 [==============================] - 0s 3ms/step - loss: 220.7013\n",
            "Epoch 41/100\n",
            "23/23 [==============================] - 0s 2ms/step - loss: 213.7145\n",
            "Epoch 42/100\n",
            "23/23 [==============================] - 0s 2ms/step - loss: 206.8464\n",
            "Epoch 43/100\n",
            "23/23 [==============================] - 0s 5ms/step - loss: 200.1613\n",
            "Epoch 44/100\n",
            "23/23 [==============================] - 0s 2ms/step - loss: 194.4928\n",
            "Epoch 45/100\n",
            "23/23 [==============================] - 0s 2ms/step - loss: 190.6516\n",
            "Epoch 46/100\n",
            "23/23 [==============================] - 0s 2ms/step - loss: 184.5951\n",
            "Epoch 47/100\n",
            "23/23 [==============================] - 0s 2ms/step - loss: 182.0247\n",
            "Epoch 48/100\n",
            "23/23 [==============================] - 0s 2ms/step - loss: 176.2542\n",
            "Epoch 49/100\n",
            "23/23 [==============================] - 0s 3ms/step - loss: 173.4717\n",
            "Epoch 50/100\n",
            "23/23 [==============================] - 0s 2ms/step - loss: 169.7441\n",
            "Epoch 51/100\n",
            "23/23 [==============================] - 0s 2ms/step - loss: 164.2566\n",
            "Epoch 52/100\n",
            "23/23 [==============================] - 0s 2ms/step - loss: 162.9586\n",
            "Epoch 53/100\n",
            "23/23 [==============================] - 0s 3ms/step - loss: 161.0714\n",
            "Epoch 54/100\n",
            "23/23 [==============================] - 0s 2ms/step - loss: 156.3438\n",
            "Epoch 55/100\n",
            "23/23 [==============================] - 0s 2ms/step - loss: 153.9856\n",
            "Epoch 56/100\n",
            "23/23 [==============================] - 0s 3ms/step - loss: 149.5865\n",
            "Epoch 57/100\n",
            "23/23 [==============================] - 0s 2ms/step - loss: 146.8318\n",
            "Epoch 58/100\n",
            "23/23 [==============================] - 0s 3ms/step - loss: 144.9556\n",
            "Epoch 59/100\n",
            "23/23 [==============================] - 0s 2ms/step - loss: 143.1700\n",
            "Epoch 60/100\n",
            "23/23 [==============================] - 0s 2ms/step - loss: 142.5137\n",
            "Epoch 61/100\n",
            "23/23 [==============================] - 0s 2ms/step - loss: 139.2986\n",
            "Epoch 62/100\n",
            "23/23 [==============================] - 0s 2ms/step - loss: 139.0947\n",
            "Epoch 63/100\n",
            "23/23 [==============================] - 0s 2ms/step - loss: 135.0977\n",
            "Epoch 64/100\n",
            "23/23 [==============================] - 0s 2ms/step - loss: 133.9637\n",
            "Epoch 65/100\n",
            "23/23 [==============================] - 0s 2ms/step - loss: 133.0545\n",
            "Epoch 66/100\n",
            "23/23 [==============================] - 0s 3ms/step - loss: 130.7584\n",
            "Epoch 67/100\n",
            "23/23 [==============================] - 0s 5ms/step - loss: 130.3801\n",
            "Epoch 68/100\n",
            "23/23 [==============================] - 0s 2ms/step - loss: 128.2651\n",
            "Epoch 69/100\n",
            "23/23 [==============================] - 0s 2ms/step - loss: 129.9916\n",
            "Epoch 70/100\n",
            "23/23 [==============================] - 0s 2ms/step - loss: 125.5098\n",
            "Epoch 71/100\n",
            "23/23 [==============================] - 0s 2ms/step - loss: 124.8060\n",
            "Epoch 72/100\n",
            "23/23 [==============================] - 0s 2ms/step - loss: 123.5891\n",
            "Epoch 73/100\n",
            "23/23 [==============================] - 0s 2ms/step - loss: 122.8723\n",
            "Epoch 74/100\n",
            "23/23 [==============================] - 0s 2ms/step - loss: 121.4764\n",
            "Epoch 75/100\n",
            "23/23 [==============================] - 0s 2ms/step - loss: 121.6027\n",
            "Epoch 76/100\n",
            "23/23 [==============================] - 0s 6ms/step - loss: 120.4772\n",
            "Epoch 77/100\n",
            "23/23 [==============================] - 0s 4ms/step - loss: 121.2334\n",
            "Epoch 78/100\n",
            "23/23 [==============================] - 0s 1ms/step - loss: 121.4526\n",
            "Epoch 79/100\n",
            "23/23 [==============================] - 0s 2ms/step - loss: 116.0566\n",
            "Epoch 80/100\n",
            "23/23 [==============================] - 0s 2ms/step - loss: 119.1297\n",
            "Epoch 81/100\n",
            "23/23 [==============================] - 0s 5ms/step - loss: 115.5470\n",
            "Epoch 82/100\n",
            "23/23 [==============================] - 0s 3ms/step - loss: 115.6402\n",
            "Epoch 83/100\n",
            "23/23 [==============================] - 0s 1ms/step - loss: 116.9647\n",
            "Epoch 84/100\n",
            "23/23 [==============================] - 0s 2ms/step - loss: 114.0825\n",
            "Epoch 85/100\n",
            "23/23 [==============================] - 0s 2ms/step - loss: 114.4692\n",
            "Epoch 86/100\n",
            "23/23 [==============================] - 0s 4ms/step - loss: 112.9221\n",
            "Epoch 87/100\n",
            "23/23 [==============================] - 0s 2ms/step - loss: 115.9460\n",
            "Epoch 88/100\n",
            "23/23 [==============================] - 0s 2ms/step - loss: 112.4687\n",
            "Epoch 89/100\n",
            "23/23 [==============================] - 0s 2ms/step - loss: 111.4474\n",
            "Epoch 90/100\n",
            "23/23 [==============================] - 0s 2ms/step - loss: 112.3185\n",
            "Epoch 91/100\n",
            "23/23 [==============================] - 0s 2ms/step - loss: 111.9757\n",
            "Epoch 92/100\n",
            "23/23 [==============================] - 0s 2ms/step - loss: 111.1563\n",
            "Epoch 93/100\n",
            "23/23 [==============================] - 0s 4ms/step - loss: 110.4460\n",
            "Epoch 94/100\n",
            "23/23 [==============================] - 0s 2ms/step - loss: 109.1798\n",
            "Epoch 95/100\n",
            "23/23 [==============================] - 0s 2ms/step - loss: 110.1138\n",
            "Epoch 96/100\n",
            "23/23 [==============================] - 0s 3ms/step - loss: 108.1190\n",
            "Epoch 97/100\n",
            "23/23 [==============================] - 0s 2ms/step - loss: 108.7874\n",
            "Epoch 98/100\n",
            "23/23 [==============================] - 0s 3ms/step - loss: 107.2740\n",
            "Epoch 99/100\n",
            "23/23 [==============================] - 0s 2ms/step - loss: 108.0015\n",
            "Epoch 100/100\n",
            "23/23 [==============================] - 0s 2ms/step - loss: 110.9857\n"
          ]
        },
        {
          "output_type": "execute_result",
          "data": {
            "text/plain": [
              "<keras.callbacks.History at 0x7f4668999760>"
            ]
          },
          "metadata": {},
          "execution_count": 31
        }
      ]
    },
    {
      "cell_type": "markdown",
      "source": [
        "**Evaluating the model**"
      ],
      "metadata": {
        "id": "NJWBVs1XQuv7"
      }
    },
    {
      "cell_type": "code",
      "source": [
        "loss_val = model.evaluate(x_test,y_test)\n",
        "y_pred = model.predict(x_test)\n",
        "loss_val"
      ],
      "metadata": {
        "colab": {
          "base_uri": "https://localhost:8080/"
        },
        "id": "3X_veCwJQl4V",
        "outputId": "760f5e55-9dbe-4d20-a377-e4c4df2b6c66"
      },
      "execution_count": null,
      "outputs": [
        {
          "output_type": "stream",
          "name": "stdout",
          "text": [
            "10/10 [==============================] - 0s 5ms/step - loss: 95.5420\n",
            "10/10 [==============================] - 0s 3ms/step\n"
          ]
        },
        {
          "output_type": "execute_result",
          "data": {
            "text/plain": [
              "95.54203796386719"
            ]
          },
          "metadata": {},
          "execution_count": 32
        }
      ]
    },
    {
      "cell_type": "markdown",
      "source": [
        "**Making List of MSE(s)**"
      ],
      "metadata": {
        "id": "CaaHSObMQ_d1"
      }
    },
    {
      "cell_type": "code",
      "source": [
        "list_of_errors = []\n",
        "for i in range(50):\n",
        "  x_train,x_test,y_train,y_test = train_test_split(x,y,test_size = 0.3, random_state = i)\n",
        "  model.fit(x_train,y_train,verbose = 0)\n",
        "  loss_val = model.evaluate(x_test,y_test,verbose = 0)\n",
        "  print(f\"MSE {i+1}:\",loss_val)\n",
        "  list_of_errors.append(loss_val)"
      ],
      "metadata": {
        "colab": {
          "base_uri": "https://localhost:8080/"
        },
        "id": "s-61_VBYREYW",
        "outputId": "9b86edf9-81e7-4ea6-9c0c-aebe9cf74359"
      },
      "execution_count": null,
      "outputs": [
        {
          "output_type": "stream",
          "name": "stdout",
          "text": [
            "MSE 1: 95.88336944580078\n",
            "MSE 2: 103.2697525024414\n",
            "MSE 3: 103.65310668945312\n",
            "MSE 4: 110.67379760742188\n",
            "MSE 5: 114.0792465209961\n",
            "MSE 6: 98.54329681396484\n",
            "MSE 7: 116.37638854980469\n",
            "MSE 8: 98.26485443115234\n",
            "MSE 9: 113.68212890625\n",
            "MSE 10: 99.50397491455078\n",
            "MSE 11: 94.2386703491211\n",
            "MSE 12: 94.4132080078125\n",
            "MSE 13: 105.64386749267578\n",
            "MSE 14: 113.13668060302734\n",
            "MSE 15: 96.9560775756836\n",
            "MSE 16: 86.1236572265625\n",
            "MSE 17: 94.02729034423828\n",
            "MSE 18: 83.13504028320312\n",
            "MSE 19: 84.77268981933594\n",
            "MSE 20: 104.06300354003906\n",
            "MSE 21: 94.0770034790039\n",
            "MSE 22: 94.28424835205078\n",
            "MSE 23: 89.66064453125\n",
            "MSE 24: 95.83661651611328\n",
            "MSE 25: 86.00926971435547\n",
            "MSE 26: 93.7890853881836\n",
            "MSE 27: 105.06494903564453\n",
            "MSE 28: 95.00067901611328\n",
            "MSE 29: 97.0302734375\n",
            "MSE 30: 92.96390533447266\n",
            "MSE 31: 111.93144226074219\n",
            "MSE 32: 93.7647933959961\n",
            "MSE 33: 87.38279724121094\n",
            "MSE 34: 92.36682891845703\n",
            "MSE 35: 92.01512145996094\n",
            "MSE 36: 108.17364501953125\n",
            "MSE 37: 85.73735046386719\n",
            "MSE 38: 99.3411865234375\n",
            "MSE 39: 82.0390853881836\n",
            "MSE 40: 98.83085632324219\n",
            "MSE 41: 88.34092712402344\n",
            "MSE 42: 86.65612030029297\n",
            "MSE 43: 86.27613067626953\n",
            "MSE 44: 88.9102783203125\n",
            "MSE 45: 99.3262939453125\n",
            "MSE 46: 93.35478973388672\n",
            "MSE 47: 83.89286041259766\n",
            "MSE 48: 95.43595886230469\n",
            "MSE 49: 85.3653335571289\n",
            "MSE 50: 83.76581573486328\n"
          ]
        }
      ]
    },
    {
      "cell_type": "code",
      "source": [
        "mean = np.mean(list_of_errors)\n",
        "std = np.std(list_of_errors)\n",
        "print(\"For part B\")\n",
        "print(f\"Mean is {110.973}\\tStandard Deviation is {8.365}\")\n",
        "print(\"For Part C\")\n",
        "print(f\"Mean is {mean}\\tStandard Deviation is {std}\")"
      ],
      "metadata": {
        "colab": {
          "base_uri": "https://localhost:8080/"
        },
        "id": "iRRHT02jRPjj",
        "outputId": "5c31ff6f-702c-4254-ce78-39fc38a92565"
      },
      "execution_count": null,
      "outputs": [
        {
          "output_type": "stream",
          "name": "stdout",
          "text": [
            "For part B\n",
            "Mean is 110.973\tStandard Deviation is 8.365\n",
            "For Part C\n",
            "Mean is 95.94128784179688\tStandard Deviation is 8.999619781919458\n"
          ]
        }
      ]
    }
  ]
}