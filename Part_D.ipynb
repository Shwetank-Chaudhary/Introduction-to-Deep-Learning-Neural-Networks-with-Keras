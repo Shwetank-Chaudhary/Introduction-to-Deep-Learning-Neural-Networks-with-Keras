{
  "nbformat": 4,
  "nbformat_minor": 0,
  "metadata": {
    "colab": {
      "provenance": [],
      "authorship_tag": "ABX9TyNEYPWdf4SMCIGFQrpPdfYr",
      "include_colab_link": true
    },
    "kernelspec": {
      "name": "python3",
      "display_name": "Python 3"
    },
    "language_info": {
      "name": "python"
    }
  },
  "cells": [
    {
      "cell_type": "markdown",
      "metadata": {
        "id": "view-in-github",
        "colab_type": "text"
      },
      "source": [
        "<a href=\"https://colab.research.google.com/github/Shwetank-Chaudhary/Introduction-to-Deep-Learning-Neural-Networks-with-Keras/blob/main/Part_D.ipynb\" target=\"_parent\"><img src=\"https://colab.research.google.com/assets/colab-badge.svg\" alt=\"Open In Colab\"/></a>"
      ]
    },
    {
      "cell_type": "code",
      "execution_count": 1,
      "metadata": {
        "id": "3IpO3UTNMHrq"
      },
      "outputs": [],
      "source": [
        "import pandas as pd\n",
        "import numpy as np \n",
        "from sklearn.model_selection import train_test_split"
      ]
    },
    {
      "cell_type": "code",
      "source": [
        "file = pd.read_csv(\"https://raw.githubusercontent.com/Shwetank-Chaudhary/Introduction-to-Deep-Learning-Neural-Networks-with-Keras/main/concrete_data.csv\")"
      ],
      "metadata": {
        "id": "3y_ya4PjM9up"
      },
      "execution_count": 19,
      "outputs": []
    },
    {
      "cell_type": "code",
      "source": [
        "file.head()"
      ],
      "metadata": {
        "colab": {
          "base_uri": "https://localhost:8080/",
          "height": 206
        },
        "id": "isXsJaiaM9hF",
        "outputId": "9afc7611-2075-4f86-d3c3-c430cc44db21"
      },
      "execution_count": 20,
      "outputs": [
        {
          "output_type": "execute_result",
          "data": {
            "text/plain": [
              "   Cement  Blast Furnace Slag  Fly Ash  Water  Superplasticizer  \\\n",
              "0   540.0                 0.0      0.0  162.0               2.5   \n",
              "1   540.0                 0.0      0.0  162.0               2.5   \n",
              "2   332.5               142.5      0.0  228.0               0.0   \n",
              "3   332.5               142.5      0.0  228.0               0.0   \n",
              "4   198.6               132.4      0.0  192.0               0.0   \n",
              "\n",
              "   Coarse Aggregate  Fine Aggregate  Age  Strength  \n",
              "0            1040.0           676.0   28     79.99  \n",
              "1            1055.0           676.0   28     61.89  \n",
              "2             932.0           594.0  270     40.27  \n",
              "3             932.0           594.0  365     41.05  \n",
              "4             978.4           825.5  360     44.30  "
            ],
            "text/html": [
              "\n",
              "  <div id=\"df-85a62560-2c95-456e-8c54-25b7810b5c90\">\n",
              "    <div class=\"colab-df-container\">\n",
              "      <div>\n",
              "<style scoped>\n",
              "    .dataframe tbody tr th:only-of-type {\n",
              "        vertical-align: middle;\n",
              "    }\n",
              "\n",
              "    .dataframe tbody tr th {\n",
              "        vertical-align: top;\n",
              "    }\n",
              "\n",
              "    .dataframe thead th {\n",
              "        text-align: right;\n",
              "    }\n",
              "</style>\n",
              "<table border=\"1\" class=\"dataframe\">\n",
              "  <thead>\n",
              "    <tr style=\"text-align: right;\">\n",
              "      <th></th>\n",
              "      <th>Cement</th>\n",
              "      <th>Blast Furnace Slag</th>\n",
              "      <th>Fly Ash</th>\n",
              "      <th>Water</th>\n",
              "      <th>Superplasticizer</th>\n",
              "      <th>Coarse Aggregate</th>\n",
              "      <th>Fine Aggregate</th>\n",
              "      <th>Age</th>\n",
              "      <th>Strength</th>\n",
              "    </tr>\n",
              "  </thead>\n",
              "  <tbody>\n",
              "    <tr>\n",
              "      <th>0</th>\n",
              "      <td>540.0</td>\n",
              "      <td>0.0</td>\n",
              "      <td>0.0</td>\n",
              "      <td>162.0</td>\n",
              "      <td>2.5</td>\n",
              "      <td>1040.0</td>\n",
              "      <td>676.0</td>\n",
              "      <td>28</td>\n",
              "      <td>79.99</td>\n",
              "    </tr>\n",
              "    <tr>\n",
              "      <th>1</th>\n",
              "      <td>540.0</td>\n",
              "      <td>0.0</td>\n",
              "      <td>0.0</td>\n",
              "      <td>162.0</td>\n",
              "      <td>2.5</td>\n",
              "      <td>1055.0</td>\n",
              "      <td>676.0</td>\n",
              "      <td>28</td>\n",
              "      <td>61.89</td>\n",
              "    </tr>\n",
              "    <tr>\n",
              "      <th>2</th>\n",
              "      <td>332.5</td>\n",
              "      <td>142.5</td>\n",
              "      <td>0.0</td>\n",
              "      <td>228.0</td>\n",
              "      <td>0.0</td>\n",
              "      <td>932.0</td>\n",
              "      <td>594.0</td>\n",
              "      <td>270</td>\n",
              "      <td>40.27</td>\n",
              "    </tr>\n",
              "    <tr>\n",
              "      <th>3</th>\n",
              "      <td>332.5</td>\n",
              "      <td>142.5</td>\n",
              "      <td>0.0</td>\n",
              "      <td>228.0</td>\n",
              "      <td>0.0</td>\n",
              "      <td>932.0</td>\n",
              "      <td>594.0</td>\n",
              "      <td>365</td>\n",
              "      <td>41.05</td>\n",
              "    </tr>\n",
              "    <tr>\n",
              "      <th>4</th>\n",
              "      <td>198.6</td>\n",
              "      <td>132.4</td>\n",
              "      <td>0.0</td>\n",
              "      <td>192.0</td>\n",
              "      <td>0.0</td>\n",
              "      <td>978.4</td>\n",
              "      <td>825.5</td>\n",
              "      <td>360</td>\n",
              "      <td>44.30</td>\n",
              "    </tr>\n",
              "  </tbody>\n",
              "</table>\n",
              "</div>\n",
              "      <button class=\"colab-df-convert\" onclick=\"convertToInteractive('df-85a62560-2c95-456e-8c54-25b7810b5c90')\"\n",
              "              title=\"Convert this dataframe to an interactive table.\"\n",
              "              style=\"display:none;\">\n",
              "        \n",
              "  <svg xmlns=\"http://www.w3.org/2000/svg\" height=\"24px\"viewBox=\"0 0 24 24\"\n",
              "       width=\"24px\">\n",
              "    <path d=\"M0 0h24v24H0V0z\" fill=\"none\"/>\n",
              "    <path d=\"M18.56 5.44l.94 2.06.94-2.06 2.06-.94-2.06-.94-.94-2.06-.94 2.06-2.06.94zm-11 1L8.5 8.5l.94-2.06 2.06-.94-2.06-.94L8.5 2.5l-.94 2.06-2.06.94zm10 10l.94 2.06.94-2.06 2.06-.94-2.06-.94-.94-2.06-.94 2.06-2.06.94z\"/><path d=\"M17.41 7.96l-1.37-1.37c-.4-.4-.92-.59-1.43-.59-.52 0-1.04.2-1.43.59L10.3 9.45l-7.72 7.72c-.78.78-.78 2.05 0 2.83L4 21.41c.39.39.9.59 1.41.59.51 0 1.02-.2 1.41-.59l7.78-7.78 2.81-2.81c.8-.78.8-2.07 0-2.86zM5.41 20L4 18.59l7.72-7.72 1.47 1.35L5.41 20z\"/>\n",
              "  </svg>\n",
              "      </button>\n",
              "      \n",
              "  <style>\n",
              "    .colab-df-container {\n",
              "      display:flex;\n",
              "      flex-wrap:wrap;\n",
              "      gap: 12px;\n",
              "    }\n",
              "\n",
              "    .colab-df-convert {\n",
              "      background-color: #E8F0FE;\n",
              "      border: none;\n",
              "      border-radius: 50%;\n",
              "      cursor: pointer;\n",
              "      display: none;\n",
              "      fill: #1967D2;\n",
              "      height: 32px;\n",
              "      padding: 0 0 0 0;\n",
              "      width: 32px;\n",
              "    }\n",
              "\n",
              "    .colab-df-convert:hover {\n",
              "      background-color: #E2EBFA;\n",
              "      box-shadow: 0px 1px 2px rgba(60, 64, 67, 0.3), 0px 1px 3px 1px rgba(60, 64, 67, 0.15);\n",
              "      fill: #174EA6;\n",
              "    }\n",
              "\n",
              "    [theme=dark] .colab-df-convert {\n",
              "      background-color: #3B4455;\n",
              "      fill: #D2E3FC;\n",
              "    }\n",
              "\n",
              "    [theme=dark] .colab-df-convert:hover {\n",
              "      background-color: #434B5C;\n",
              "      box-shadow: 0px 1px 3px 1px rgba(0, 0, 0, 0.15);\n",
              "      filter: drop-shadow(0px 1px 2px rgba(0, 0, 0, 0.3));\n",
              "      fill: #FFFFFF;\n",
              "    }\n",
              "  </style>\n",
              "\n",
              "      <script>\n",
              "        const buttonEl =\n",
              "          document.querySelector('#df-85a62560-2c95-456e-8c54-25b7810b5c90 button.colab-df-convert');\n",
              "        buttonEl.style.display =\n",
              "          google.colab.kernel.accessAllowed ? 'block' : 'none';\n",
              "\n",
              "        async function convertToInteractive(key) {\n",
              "          const element = document.querySelector('#df-85a62560-2c95-456e-8c54-25b7810b5c90');\n",
              "          const dataTable =\n",
              "            await google.colab.kernel.invokeFunction('convertToInteractive',\n",
              "                                                     [key], {});\n",
              "          if (!dataTable) return;\n",
              "\n",
              "          const docLinkHtml = 'Like what you see? Visit the ' +\n",
              "            '<a target=\"_blank\" href=https://colab.research.google.com/notebooks/data_table.ipynb>data table notebook</a>'\n",
              "            + ' to learn more about interactive tables.';\n",
              "          element.innerHTML = '';\n",
              "          dataTable['output_type'] = 'display_data';\n",
              "          await google.colab.output.renderOutput(dataTable, element);\n",
              "          const docLink = document.createElement('div');\n",
              "          docLink.innerHTML = docLinkHtml;\n",
              "          element.appendChild(docLink);\n",
              "        }\n",
              "      </script>\n",
              "    </div>\n",
              "  </div>\n",
              "  "
            ]
          },
          "metadata": {},
          "execution_count": 20
        }
      ]
    },
    {
      "cell_type": "markdown",
      "source": [
        "Repeat Part A but use a normalized version of the data. "
      ],
      "metadata": {
        "id": "5vUoPQnwNOBH"
      }
    },
    {
      "cell_type": "code",
      "source": [
        "x = file.iloc[:,:-1]      #Predictors\n",
        "y = file['Strength']      #Target"
      ],
      "metadata": {
        "id": "EA51v01kNUia"
      },
      "execution_count": 4,
      "outputs": []
    },
    {
      "cell_type": "code",
      "source": [
        "print(x.shape,y.shape,sep='\\n')"
      ],
      "metadata": {
        "colab": {
          "base_uri": "https://localhost:8080/"
        },
        "id": "tUZNDJW6NvWT",
        "outputId": "51c61e05-3928-4c53-ef3c-f74bb884f53a"
      },
      "execution_count": 5,
      "outputs": [
        {
          "output_type": "stream",
          "name": "stdout",
          "text": [
            "(1030, 8)\n",
            "(1030,)\n"
          ]
        }
      ]
    },
    {
      "cell_type": "markdown",
      "source": [
        "**Normalising the Predictors**"
      ],
      "metadata": {
        "id": "xto3m2qMOPOg"
      }
    },
    {
      "cell_type": "code",
      "source": [
        "x_norm = (x-x.mean())/x.std()"
      ],
      "metadata": {
        "id": "OQM3-Wr4ONNe"
      },
      "execution_count": 6,
      "outputs": []
    },
    {
      "cell_type": "code",
      "source": [
        "x_norm.head()"
      ],
      "metadata": {
        "colab": {
          "base_uri": "https://localhost:8080/",
          "height": 206
        },
        "id": "qW9G6H8-OsiG",
        "outputId": "1d5b316a-ad75-49a0-82bf-2169fb598c33"
      },
      "execution_count": 7,
      "outputs": [
        {
          "output_type": "execute_result",
          "data": {
            "text/plain": [
              "     Cement  Blast Furnace Slag   Fly Ash     Water  Superplasticizer  \\\n",
              "0  2.476712           -0.856472 -0.846733 -0.916319         -0.620147   \n",
              "1  2.476712           -0.856472 -0.846733 -0.916319         -0.620147   \n",
              "2  0.491187            0.795140 -0.846733  2.174405         -1.038638   \n",
              "3  0.491187            0.795140 -0.846733  2.174405         -1.038638   \n",
              "4 -0.790075            0.678079 -0.846733  0.488555         -1.038638   \n",
              "\n",
              "   Coarse Aggregate  Fine Aggregate       Age  \n",
              "0          0.862735       -1.217079 -0.279597  \n",
              "1          1.055651       -1.217079 -0.279597  \n",
              "2         -0.526262       -2.239829  3.551340  \n",
              "3         -0.526262       -2.239829  5.055221  \n",
              "4          0.070492        0.647569  4.976069  "
            ],
            "text/html": [
              "\n",
              "  <div id=\"df-9229ec65-055f-45e9-9932-def2c8f974b7\">\n",
              "    <div class=\"colab-df-container\">\n",
              "      <div>\n",
              "<style scoped>\n",
              "    .dataframe tbody tr th:only-of-type {\n",
              "        vertical-align: middle;\n",
              "    }\n",
              "\n",
              "    .dataframe tbody tr th {\n",
              "        vertical-align: top;\n",
              "    }\n",
              "\n",
              "    .dataframe thead th {\n",
              "        text-align: right;\n",
              "    }\n",
              "</style>\n",
              "<table border=\"1\" class=\"dataframe\">\n",
              "  <thead>\n",
              "    <tr style=\"text-align: right;\">\n",
              "      <th></th>\n",
              "      <th>Cement</th>\n",
              "      <th>Blast Furnace Slag</th>\n",
              "      <th>Fly Ash</th>\n",
              "      <th>Water</th>\n",
              "      <th>Superplasticizer</th>\n",
              "      <th>Coarse Aggregate</th>\n",
              "      <th>Fine Aggregate</th>\n",
              "      <th>Age</th>\n",
              "    </tr>\n",
              "  </thead>\n",
              "  <tbody>\n",
              "    <tr>\n",
              "      <th>0</th>\n",
              "      <td>2.476712</td>\n",
              "      <td>-0.856472</td>\n",
              "      <td>-0.846733</td>\n",
              "      <td>-0.916319</td>\n",
              "      <td>-0.620147</td>\n",
              "      <td>0.862735</td>\n",
              "      <td>-1.217079</td>\n",
              "      <td>-0.279597</td>\n",
              "    </tr>\n",
              "    <tr>\n",
              "      <th>1</th>\n",
              "      <td>2.476712</td>\n",
              "      <td>-0.856472</td>\n",
              "      <td>-0.846733</td>\n",
              "      <td>-0.916319</td>\n",
              "      <td>-0.620147</td>\n",
              "      <td>1.055651</td>\n",
              "      <td>-1.217079</td>\n",
              "      <td>-0.279597</td>\n",
              "    </tr>\n",
              "    <tr>\n",
              "      <th>2</th>\n",
              "      <td>0.491187</td>\n",
              "      <td>0.795140</td>\n",
              "      <td>-0.846733</td>\n",
              "      <td>2.174405</td>\n",
              "      <td>-1.038638</td>\n",
              "      <td>-0.526262</td>\n",
              "      <td>-2.239829</td>\n",
              "      <td>3.551340</td>\n",
              "    </tr>\n",
              "    <tr>\n",
              "      <th>3</th>\n",
              "      <td>0.491187</td>\n",
              "      <td>0.795140</td>\n",
              "      <td>-0.846733</td>\n",
              "      <td>2.174405</td>\n",
              "      <td>-1.038638</td>\n",
              "      <td>-0.526262</td>\n",
              "      <td>-2.239829</td>\n",
              "      <td>5.055221</td>\n",
              "    </tr>\n",
              "    <tr>\n",
              "      <th>4</th>\n",
              "      <td>-0.790075</td>\n",
              "      <td>0.678079</td>\n",
              "      <td>-0.846733</td>\n",
              "      <td>0.488555</td>\n",
              "      <td>-1.038638</td>\n",
              "      <td>0.070492</td>\n",
              "      <td>0.647569</td>\n",
              "      <td>4.976069</td>\n",
              "    </tr>\n",
              "  </tbody>\n",
              "</table>\n",
              "</div>\n",
              "      <button class=\"colab-df-convert\" onclick=\"convertToInteractive('df-9229ec65-055f-45e9-9932-def2c8f974b7')\"\n",
              "              title=\"Convert this dataframe to an interactive table.\"\n",
              "              style=\"display:none;\">\n",
              "        \n",
              "  <svg xmlns=\"http://www.w3.org/2000/svg\" height=\"24px\"viewBox=\"0 0 24 24\"\n",
              "       width=\"24px\">\n",
              "    <path d=\"M0 0h24v24H0V0z\" fill=\"none\"/>\n",
              "    <path d=\"M18.56 5.44l.94 2.06.94-2.06 2.06-.94-2.06-.94-.94-2.06-.94 2.06-2.06.94zm-11 1L8.5 8.5l.94-2.06 2.06-.94-2.06-.94L8.5 2.5l-.94 2.06-2.06.94zm10 10l.94 2.06.94-2.06 2.06-.94-2.06-.94-.94-2.06-.94 2.06-2.06.94z\"/><path d=\"M17.41 7.96l-1.37-1.37c-.4-.4-.92-.59-1.43-.59-.52 0-1.04.2-1.43.59L10.3 9.45l-7.72 7.72c-.78.78-.78 2.05 0 2.83L4 21.41c.39.39.9.59 1.41.59.51 0 1.02-.2 1.41-.59l7.78-7.78 2.81-2.81c.8-.78.8-2.07 0-2.86zM5.41 20L4 18.59l7.72-7.72 1.47 1.35L5.41 20z\"/>\n",
              "  </svg>\n",
              "      </button>\n",
              "      \n",
              "  <style>\n",
              "    .colab-df-container {\n",
              "      display:flex;\n",
              "      flex-wrap:wrap;\n",
              "      gap: 12px;\n",
              "    }\n",
              "\n",
              "    .colab-df-convert {\n",
              "      background-color: #E8F0FE;\n",
              "      border: none;\n",
              "      border-radius: 50%;\n",
              "      cursor: pointer;\n",
              "      display: none;\n",
              "      fill: #1967D2;\n",
              "      height: 32px;\n",
              "      padding: 0 0 0 0;\n",
              "      width: 32px;\n",
              "    }\n",
              "\n",
              "    .colab-df-convert:hover {\n",
              "      background-color: #E2EBFA;\n",
              "      box-shadow: 0px 1px 2px rgba(60, 64, 67, 0.3), 0px 1px 3px 1px rgba(60, 64, 67, 0.15);\n",
              "      fill: #174EA6;\n",
              "    }\n",
              "\n",
              "    [theme=dark] .colab-df-convert {\n",
              "      background-color: #3B4455;\n",
              "      fill: #D2E3FC;\n",
              "    }\n",
              "\n",
              "    [theme=dark] .colab-df-convert:hover {\n",
              "      background-color: #434B5C;\n",
              "      box-shadow: 0px 1px 3px 1px rgba(0, 0, 0, 0.15);\n",
              "      filter: drop-shadow(0px 1px 2px rgba(0, 0, 0, 0.3));\n",
              "      fill: #FFFFFF;\n",
              "    }\n",
              "  </style>\n",
              "\n",
              "      <script>\n",
              "        const buttonEl =\n",
              "          document.querySelector('#df-9229ec65-055f-45e9-9932-def2c8f974b7 button.colab-df-convert');\n",
              "        buttonEl.style.display =\n",
              "          google.colab.kernel.accessAllowed ? 'block' : 'none';\n",
              "\n",
              "        async function convertToInteractive(key) {\n",
              "          const element = document.querySelector('#df-9229ec65-055f-45e9-9932-def2c8f974b7');\n",
              "          const dataTable =\n",
              "            await google.colab.kernel.invokeFunction('convertToInteractive',\n",
              "                                                     [key], {});\n",
              "          if (!dataTable) return;\n",
              "\n",
              "          const docLinkHtml = 'Like what you see? Visit the ' +\n",
              "            '<a target=\"_blank\" href=https://colab.research.google.com/notebooks/data_table.ipynb>data table notebook</a>'\n",
              "            + ' to learn more about interactive tables.';\n",
              "          element.innerHTML = '';\n",
              "          dataTable['output_type'] = 'display_data';\n",
              "          await google.colab.output.renderOutput(dataTable, element);\n",
              "          const docLink = document.createElement('div');\n",
              "          docLink.innerHTML = docLinkHtml;\n",
              "          element.appendChild(docLink);\n",
              "        }\n",
              "      </script>\n",
              "    </div>\n",
              "  </div>\n",
              "  "
            ]
          },
          "metadata": {},
          "execution_count": 7
        }
      ]
    },
    {
      "cell_type": "markdown",
      "source": [
        "**Making the model With 3 hidden layers**"
      ],
      "metadata": {
        "id": "iKjzia8XOyYa"
      }
    },
    {
      "cell_type": "code",
      "source": [
        "import tensorflow as tf\n",
        "from keras.models import Sequential\n",
        "from keras.layers import Activation,Dense"
      ],
      "metadata": {
        "id": "0zeFNujgOx0f"
      },
      "execution_count": 9,
      "outputs": []
    },
    {
      "cell_type": "code",
      "source": [
        "model = Sequential()\n",
        "model.add(Dense(10,activation = 'relu'))\n",
        "model.add(Dense(10,activation = 'relu'))\n",
        "model.add(Dense(10,activation = 'relu'))\n",
        "model.add(Dense(1))"
      ],
      "metadata": {
        "id": "juQkny5JPJaB"
      },
      "execution_count": 10,
      "outputs": []
    },
    {
      "cell_type": "code",
      "source": [
        "model.compile(optimizer = 'adam', loss = 'mean_squared_error')"
      ],
      "metadata": {
        "id": "rMRc3RbnPooE"
      },
      "execution_count": 11,
      "outputs": []
    },
    {
      "cell_type": "markdown",
      "source": [
        "**Training the model**"
      ],
      "metadata": {
        "id": "hBk6rzvsP5ph"
      }
    },
    {
      "cell_type": "code",
      "source": [
        "x_train,x_test,y_train,y_test = train_test_split(x,y,test_size = 0.3,random_state = 0)"
      ],
      "metadata": {
        "id": "dvMmRq3dP-7G"
      },
      "execution_count": 12,
      "outputs": []
    },
    {
      "cell_type": "code",
      "source": [
        "model.fit(x_train,y_train,verbose=1,epochs = 50)"
      ],
      "metadata": {
        "colab": {
          "base_uri": "https://localhost:8080/"
        },
        "id": "NV-myhw4QTB1",
        "outputId": "dce03914-3953-4a0a-820f-0d4c75dc4117"
      },
      "execution_count": 13,
      "outputs": [
        {
          "output_type": "stream",
          "name": "stdout",
          "text": [
            "Epoch 1/50\n",
            "23/23 [==============================] - 1s 2ms/step - loss: 709.2515\n",
            "Epoch 2/50\n",
            "23/23 [==============================] - 0s 3ms/step - loss: 466.0520\n",
            "Epoch 3/50\n",
            "23/23 [==============================] - 0s 2ms/step - loss: 378.9599\n",
            "Epoch 4/50\n",
            "23/23 [==============================] - 0s 2ms/step - loss: 342.2769\n",
            "Epoch 5/50\n",
            "23/23 [==============================] - 0s 2ms/step - loss: 320.2792\n",
            "Epoch 6/50\n",
            "23/23 [==============================] - 0s 2ms/step - loss: 310.8865\n",
            "Epoch 7/50\n",
            "23/23 [==============================] - 0s 2ms/step - loss: 295.6943\n",
            "Epoch 8/50\n",
            "23/23 [==============================] - 0s 2ms/step - loss: 289.7845\n",
            "Epoch 9/50\n",
            "23/23 [==============================] - 0s 2ms/step - loss: 275.0652\n",
            "Epoch 10/50\n",
            "23/23 [==============================] - 0s 2ms/step - loss: 264.4852\n",
            "Epoch 11/50\n",
            "23/23 [==============================] - 0s 2ms/step - loss: 261.1584\n",
            "Epoch 12/50\n",
            "23/23 [==============================] - 0s 2ms/step - loss: 255.1914\n",
            "Epoch 13/50\n",
            "23/23 [==============================] - 0s 2ms/step - loss: 245.1477\n",
            "Epoch 14/50\n",
            "23/23 [==============================] - 0s 2ms/step - loss: 238.9772\n",
            "Epoch 15/50\n",
            "23/23 [==============================] - 0s 2ms/step - loss: 226.8799\n",
            "Epoch 16/50\n",
            "23/23 [==============================] - 0s 2ms/step - loss: 226.7194\n",
            "Epoch 17/50\n",
            "23/23 [==============================] - 0s 2ms/step - loss: 217.3596\n",
            "Epoch 18/50\n",
            "23/23 [==============================] - 0s 2ms/step - loss: 204.1329\n",
            "Epoch 19/50\n",
            "23/23 [==============================] - 0s 2ms/step - loss: 199.9052\n",
            "Epoch 20/50\n",
            "23/23 [==============================] - 0s 2ms/step - loss: 192.6966\n",
            "Epoch 21/50\n",
            "23/23 [==============================] - 0s 2ms/step - loss: 189.0614\n",
            "Epoch 22/50\n",
            "23/23 [==============================] - 0s 2ms/step - loss: 185.4353\n",
            "Epoch 23/50\n",
            "23/23 [==============================] - 0s 2ms/step - loss: 186.9784\n",
            "Epoch 24/50\n",
            "23/23 [==============================] - 0s 2ms/step - loss: 180.8430\n",
            "Epoch 25/50\n",
            "23/23 [==============================] - 0s 2ms/step - loss: 169.2781\n",
            "Epoch 26/50\n",
            "23/23 [==============================] - 0s 2ms/step - loss: 166.9712\n",
            "Epoch 27/50\n",
            "23/23 [==============================] - 0s 2ms/step - loss: 164.0744\n",
            "Epoch 28/50\n",
            "23/23 [==============================] - 0s 2ms/step - loss: 163.2392\n",
            "Epoch 29/50\n",
            "23/23 [==============================] - 0s 2ms/step - loss: 161.0805\n",
            "Epoch 30/50\n",
            "23/23 [==============================] - 0s 2ms/step - loss: 161.0978\n",
            "Epoch 31/50\n",
            "23/23 [==============================] - 0s 2ms/step - loss: 157.2867\n",
            "Epoch 32/50\n",
            "23/23 [==============================] - 0s 2ms/step - loss: 154.5276\n",
            "Epoch 33/50\n",
            "23/23 [==============================] - 0s 2ms/step - loss: 162.9607\n",
            "Epoch 34/50\n",
            "23/23 [==============================] - 0s 2ms/step - loss: 149.7421\n",
            "Epoch 35/50\n",
            "23/23 [==============================] - 0s 2ms/step - loss: 152.5785\n",
            "Epoch 36/50\n",
            "23/23 [==============================] - 0s 2ms/step - loss: 147.5451\n",
            "Epoch 37/50\n",
            "23/23 [==============================] - 0s 2ms/step - loss: 144.3406\n",
            "Epoch 38/50\n",
            "23/23 [==============================] - 0s 2ms/step - loss: 142.5372\n",
            "Epoch 39/50\n",
            "23/23 [==============================] - 0s 2ms/step - loss: 148.3492\n",
            "Epoch 40/50\n",
            "23/23 [==============================] - 0s 2ms/step - loss: 138.2341\n",
            "Epoch 41/50\n",
            "23/23 [==============================] - 0s 2ms/step - loss: 138.2085\n",
            "Epoch 42/50\n",
            "23/23 [==============================] - 0s 2ms/step - loss: 136.5398\n",
            "Epoch 43/50\n",
            "23/23 [==============================] - 0s 2ms/step - loss: 134.4507\n",
            "Epoch 44/50\n",
            "23/23 [==============================] - 0s 2ms/step - loss: 133.7462\n",
            "Epoch 45/50\n",
            "23/23 [==============================] - 0s 2ms/step - loss: 130.3623\n",
            "Epoch 46/50\n",
            "23/23 [==============================] - 0s 2ms/step - loss: 125.0901\n",
            "Epoch 47/50\n",
            "23/23 [==============================] - 0s 2ms/step - loss: 125.8942\n",
            "Epoch 48/50\n",
            "23/23 [==============================] - 0s 2ms/step - loss: 123.6181\n",
            "Epoch 49/50\n",
            "23/23 [==============================] - 0s 2ms/step - loss: 124.2919\n",
            "Epoch 50/50\n",
            "23/23 [==============================] - 0s 2ms/step - loss: 121.4956\n"
          ]
        },
        {
          "output_type": "execute_result",
          "data": {
            "text/plain": [
              "<keras.callbacks.History at 0x7fbea42de6d0>"
            ]
          },
          "metadata": {},
          "execution_count": 13
        }
      ]
    },
    {
      "cell_type": "markdown",
      "source": [
        "**Evaluating the model**"
      ],
      "metadata": {
        "id": "NJWBVs1XQuv7"
      }
    },
    {
      "cell_type": "code",
      "source": [
        "loss_val = model.evaluate(x_test,y_test)\n",
        "y_pred = model.predict(x_test)\n",
        "loss_val"
      ],
      "metadata": {
        "colab": {
          "base_uri": "https://localhost:8080/"
        },
        "id": "3X_veCwJQl4V",
        "outputId": "53896093-28a2-4a40-d489-c80667db2643"
      },
      "execution_count": 14,
      "outputs": [
        {
          "output_type": "stream",
          "name": "stdout",
          "text": [
            "10/10 [==============================] - 0s 2ms/step - loss: 100.7321\n",
            "10/10 [==============================] - 0s 2ms/step\n"
          ]
        },
        {
          "output_type": "execute_result",
          "data": {
            "text/plain": [
              "100.73213958740234"
            ]
          },
          "metadata": {},
          "execution_count": 14
        }
      ]
    },
    {
      "cell_type": "markdown",
      "source": [
        "**Making List of MSE(s)**"
      ],
      "metadata": {
        "id": "CaaHSObMQ_d1"
      }
    },
    {
      "cell_type": "code",
      "source": [
        "list_of_errors = []\n",
        "for i in range(50):\n",
        "  x_train,x_test,y_train,y_test = train_test_split(x,y,test_size = 0.3, random_state = i)\n",
        "  model.fit(x_train,y_train,verbose = 0)\n",
        "  loss_val = model.evaluate(x_test,y_test,verbose = 0)\n",
        "  print(f\"MSE {i+1}:\",loss_val)\n",
        "  list_of_errors.append(loss_val)"
      ],
      "metadata": {
        "colab": {
          "base_uri": "https://localhost:8080/"
        },
        "id": "s-61_VBYREYW",
        "outputId": "e29126ac-a4de-4586-bace-be7ec6da5e0c"
      },
      "execution_count": 17,
      "outputs": [
        {
          "output_type": "stream",
          "name": "stdout",
          "text": [
            "MSE 1: 104.32696533203125\n",
            "MSE 2: 109.16397094726562\n",
            "MSE 3: 107.85675811767578\n",
            "MSE 4: 137.28565979003906\n",
            "MSE 5: 118.03289031982422\n",
            "MSE 6: 99.69029235839844\n",
            "MSE 7: 126.68316650390625\n",
            "MSE 8: 100.2076644897461\n",
            "MSE 9: 127.11981964111328\n",
            "MSE 10: 102.10615539550781\n",
            "MSE 11: 102.39462280273438\n",
            "MSE 12: 110.81409454345703\n",
            "MSE 13: 111.37958526611328\n",
            "MSE 14: 107.93798065185547\n",
            "MSE 15: 99.11761474609375\n",
            "MSE 16: 100.26469421386719\n",
            "MSE 17: 95.45840454101562\n",
            "MSE 18: 93.50822448730469\n",
            "MSE 19: 86.20467376708984\n",
            "MSE 20: 137.13919067382812\n",
            "MSE 21: 91.15090942382812\n",
            "MSE 22: 94.85258483886719\n",
            "MSE 23: 100.21328735351562\n",
            "MSE 24: 95.61182403564453\n",
            "MSE 25: 98.85973358154297\n",
            "MSE 26: 93.44083404541016\n",
            "MSE 27: 110.64091491699219\n",
            "MSE 28: 99.43049621582031\n",
            "MSE 29: 103.8058090209961\n",
            "MSE 30: 95.9501953125\n",
            "MSE 31: 108.33747863769531\n",
            "MSE 32: 94.21217346191406\n",
            "MSE 33: 86.36808776855469\n",
            "MSE 34: 101.40457916259766\n",
            "MSE 35: 101.93125915527344\n",
            "MSE 36: 127.59213256835938\n",
            "MSE 37: 108.2007827758789\n",
            "MSE 38: 115.13475799560547\n",
            "MSE 39: 90.57752227783203\n",
            "MSE 40: 98.92649841308594\n",
            "MSE 41: 97.47727966308594\n",
            "MSE 42: 109.5315170288086\n",
            "MSE 43: 87.41838836669922\n",
            "MSE 44: 94.0575942993164\n",
            "MSE 45: 103.62152099609375\n",
            "MSE 46: 97.4365234375\n",
            "MSE 47: 105.06355285644531\n",
            "MSE 48: 93.33609771728516\n",
            "MSE 49: 87.50959014892578\n",
            "MSE 50: 94.57294464111328\n"
          ]
        }
      ]
    },
    {
      "cell_type": "code",
      "source": [
        "mean = np.mean(list_of_errors)\n",
        "std = np.std(list_of_errors)\n",
        "print(\"For part B\")\n",
        "print(f\"Mean is {110.973}\\tStandard Deviation is {8.365}\")\n",
        "print(\"For Part D\")\n",
        "print(f\"Mean is {mean}\\tStandard Deviation is {std}\")"
      ],
      "metadata": {
        "colab": {
          "base_uri": "https://localhost:8080/"
        },
        "id": "iRRHT02jRPjj",
        "outputId": "0e4a4139-7a1e-48c3-c72c-70e73d86064a"
      },
      "execution_count": 18,
      "outputs": [
        {
          "output_type": "stream",
          "name": "stdout",
          "text": [
            "For part B\n",
            "Mean is 110.973\tStandard Deviation is 8.365\n",
            "For Part D\n",
            "Mean is 103.26718597412109\tStandard Deviation is 11.889154203827342\n"
          ]
        }
      ]
    }
  ]
}